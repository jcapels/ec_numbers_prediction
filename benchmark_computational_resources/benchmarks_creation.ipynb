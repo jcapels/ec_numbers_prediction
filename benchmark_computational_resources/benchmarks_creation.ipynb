{
 "cells": [
  {
   "cell_type": "code",
   "execution_count": 5,
   "metadata": {},
   "outputs": [],
   "source": [
    "import pandas as pd\n",
    "from plants_sm.utilities.utils import convert_csv_to_fasta\n",
    "\n",
    "test_1000 = pd.read_csv(\"test_reduced.csv\").head(1000)\n",
    "test_1000.to_csv(\"test_reduced_1000.csv\", index=False)\n",
    "convert_csv_to_fasta(\"test_reduced_1000.csv\", \"sequence\", \"accession\", 'test_1000.fasta')\n"
   ]
  },
  {
   "cell_type": "code",
   "execution_count": 7,
   "metadata": {},
   "outputs": [],
   "source": [
    "import pandas as pd\n",
    "from plants_sm.utilities.utils import convert_csv_to_fasta\n",
    "\n",
    "test_1000 = pd.read_csv(\"test_reduced.csv\").head(10000)\n",
    "test_1000.to_csv(\"test_reduced_10000.csv\", index=False)\n",
    "convert_csv_to_fasta(\"test_reduced_10000.csv\", \"sequence\", \"accession\", 'test_10000.fasta')\n"
   ]
  },
  {
   "cell_type": "code",
   "execution_count": 9,
   "metadata": {},
   "outputs": [],
   "source": [
    "import pandas as pd\n",
    "from plants_sm.utilities.utils import convert_csv_to_fasta\n",
    "\n",
    "test_100000 = pd.read_csv(\"train_reduced.csv\").head(100000)\n",
    "test_100000.to_csv(\"train_reduced_100000.csv\", index=False)\n",
    "convert_csv_to_fasta(\"train_reduced_100000.csv\", \"sequence\", \"accession\", 'test_100000.fasta')\n"
   ]
  }
 ],
 "metadata": {
  "kernelspec": {
   "display_name": "enzyme_prediction",
   "language": "python",
   "name": "python3"
  },
  "language_info": {
   "codemirror_mode": {
    "name": "ipython",
    "version": 3
   },
   "file_extension": ".py",
   "mimetype": "text/x-python",
   "name": "python",
   "nbconvert_exporter": "python",
   "pygments_lexer": "ipython3",
   "version": "3.9.18"
  }
 },
 "nbformat": 4,
 "nbformat_minor": 2
}
