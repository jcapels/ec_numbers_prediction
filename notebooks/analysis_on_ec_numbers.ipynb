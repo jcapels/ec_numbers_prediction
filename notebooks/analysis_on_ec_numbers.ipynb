{
 "cells": [
  {
   "cell_type": "code",
   "execution_count": null,
   "id": "initial_id",
   "metadata": {
    "collapsed": true
   },
   "outputs": [],
   "source": []
  },
  {
   "cell_type": "code",
   "outputs": [],
   "source": [
    "import pandas as pd\n",
    "\n",
    "test = pd.read_csv('/scratch/jribeiro/ec_number_prediction/final_data/test.csv')"
   ],
   "metadata": {
    "collapsed": false
   },
   "id": "4048ba9c21b50f50"
  },
  {
   "cell_type": "code",
   "outputs": [],
   "source": [
    "# now open everything\n",
    "import pickle\n",
    "\n",
    "with open('blast_f1_score.pkl', 'rb') as f:\n",
    "    blast_f1_score = pickle.load(f)\n",
    "\n",
    "with open('blast_recall_score.pkl', 'rb') as f:\n",
    "    blast_recall_score = pickle.load(f)\n",
    "\n",
    "with open('blast_precision_score.pkl', 'rb') as f:\n",
    "    blast_precision_score = pickle.load(f)\n",
    "# now open everything\n",
    "import pickle\n",
    "\n",
    "with open('esm2_t36_3B_UR50D_f1_score.pkl', 'rb') as f:\n",
    "    esm2_t36_3B_UR50D_f1_score_list = pickle.load(f)\n",
    "\n",
    "with open('esm2_t36_3B_UR50D_recall_score.pkl', 'rb') as f:\n",
    "    esm2_t36_3B_UR50D_recall_score_list = pickle.load(f)\n",
    "\n",
    "with open('esm2_t36_3B_UR50D_precision_score.pkl', 'rb') as f:\n",
    "    esm2_t36_3B_UR50D_precision_score_list = pickle.load(f)\n",
    "# do this for protein bert\n",
    "import pickle\n",
    "\n",
    "with open('protein_bert_f1_score.pkl', 'rb') as f:\n",
    "    protein_bert_f1_score_list = pickle.load(f)\n",
    "\n",
    "with open('protein_bert_recall_score.pkl', 'rb') as f:\n",
    "    protein_bert_recall_score_list = pickle.load(f)\n",
    "\n",
    "with open('protein_bert_precision_score.pkl', 'rb') as f:\n",
    "    protein_bert_precision_score_list = pickle.load(f)\n",
    "# now open everything\n",
    "import pickle\n",
    "\n",
    "with open('esm1b_f1_score.pkl', 'rb') as f:\n",
    "    esm1b_f1_score_list = pickle.load(f)\n",
    "\n",
    "with open('esm1b_recall_score.pkl', 'rb') as f:\n",
    "    esm1b_recall_score_list = pickle.load(f)\n",
    "\n",
    "with open('esm1b_precision_score.pkl', 'rb') as f:\n",
    "    esm1b_precision_score_list = pickle.load(f)\n",
    "# now open everything\n",
    "import pickle\n",
    "\n",
    "with open('deepec_f1_score.pkl', 'rb') as f:\n",
    "    deepec_f1_score_list = pickle.load(f)\n",
    "\n",
    "with open('deepec_recall_score.pkl', 'rb') as f:\n",
    "    deepec_recall_score_list = pickle.load(f)\n",
    "\n",
    "with open('deepec_precision_score.pkl', 'rb') as f:\n",
    "    deepec_precision_score_list = pickle.load(f)\n",
    "# now open everything\n",
    "import pickle\n",
    "\n",
    "with open('dspace_f1_score.pkl', 'rb') as f:\n",
    "    dspace_f1_score_list = pickle.load(f)\n",
    "\n",
    "with open('dspace_recall_score.pkl', 'rb') as f:\n",
    "    dspace_recall_score_list = pickle.load(f)\n",
    "\n",
    "with open('dspace_precision_score.pkl', 'rb') as f:\n",
    "    dspace_precision_score_list = pickle.load(f)"
   ],
   "metadata": {
    "collapsed": false
   },
   "id": "ebcf676bac32716f"
  },
  {
   "cell_type": "code",
   "outputs": [],
   "source": [
    "import pandas as pd\n",
    "\n",
    "labels = pd.read_csv(\"/scratch/jribeiro/ec_number_prediction/final_data/train.csv\", nrows=2).columns[8:]"
   ],
   "metadata": {
    "collapsed": false
   },
   "id": "3675136f5d652524"
  },
  {
   "cell_type": "code",
   "outputs": [],
   "source": [
    "def get_best_above_threshold(metric_values, threshold):\n",
    "    best_above_threshold = []\n",
    "    for i, value in enumerate(metric_values):\n",
    "        if threshold < 0 and value < threshold:\n",
    "            best_above_threshold.append(i)\n",
    "        elif threshold > 0 and value > threshold:\n",
    "            best_above_threshold.append(i)\n",
    "    return best_above_threshold"
   ],
   "metadata": {
    "collapsed": false
   },
   "id": "18941c6be380cae6"
  },
  {
   "cell_type": "code",
   "outputs": [],
   "source": [
    "import numpy as np\n",
    "test = test.iloc[:, 8:]\n",
    "num_labels = test.shape[1]\n",
    "samples_per_label_test = np.zeros(num_labels, dtype=int)\n",
    "\n",
    "for label in range(num_labels):\n",
    "    samples_per_label_test[label] = np.sum(test.iloc[:, label])"
   ],
   "metadata": {
    "collapsed": false
   },
   "id": "10a926623e939a72"
  },
  {
   "cell_type": "code",
   "outputs": [],
   "source": [
    "def get_results_for_threshold(comparison, samples_per_label_test, f1_score_list, method, blast=False):\n",
    "    results = {}\n",
    "    results[\"method\"] = []\n",
    "    results[\"threshold\"] = []\n",
    "    results[\"EC number\"] = []\n",
    "    results[\"Number of positives\"] = []\n",
    "    results[\"F1 score\"] = []\n",
    "    results[\"Difference of F1 score\"] = []\n",
    "    for threshold in [0.000000000000000000001, 0.1, 0.2, 0.3]:\n",
    "        for i in get_best_above_threshold(comparison, threshold):\n",
    "            results[\"method\"].append(method)\n",
    "            results[\"threshold\"].append(threshold)\n",
    "            results[\"EC number\"].append(labels[i])\n",
    "            results[\"Number of positives\"].append(samples_per_label_test[i])\n",
    "            results[\"F1 score\"].append(np.array(f1_score_list)[i])\n",
    "            results[\"Difference of F1 score\"].append(comparison[i])\n",
    "        \n",
    "        if blast:\n",
    "            for i in get_best_above_threshold(comparison, -threshold):\n",
    "                results[\"method\"].append(f\"{method} - BLASTp\")\n",
    "                results[\"threshold\"].append(threshold)\n",
    "                results[\"EC number\"].append(labels[i])\n",
    "                results[\"Number of positives\"].append(samples_per_label_test[i])\n",
    "                results[\"F1 score\"].append(np.array(blast_f1_score)[i])\n",
    "                results[\"Difference of F1 score\"].append(comparison[i])\n",
    "\n",
    "    return results"
   ],
   "metadata": {
    "collapsed": false
   },
   "id": "7ffb47a5169106d7"
  },
  {
   "cell_type": "code",
   "outputs": [],
   "source": [
    "def get_comparison_results(model_f1_list, blast_f1_list):\n",
    "    comparison = []\n",
    "    for i in range(len(blast_f1_list)):\n",
    "        comparison.append(model_f1_list[i] - blast_f1_list[i])\n",
    "    return comparison\n",
    "\n",
    "comparison_3b = get_comparison_results(esm2_t36_3B_UR50D_f1_score_list, blast_f1_score)\n",
    "comparison_esm1b = get_comparison_results(esm1b_f1_score_list, blast_f1_score)\n",
    "comparison_protein_bert = get_comparison_results(protein_bert_f1_score_list, blast_f1_score)"
   ],
   "metadata": {
    "collapsed": false
   },
   "id": "ee1bbad8910f51ec"
  },
  {
   "cell_type": "code",
   "outputs": [],
   "source": [
    "import pandas as pd\n",
    "\n",
    "results = pd.DataFrame(get_results_for_threshold(comparison_3b, samples_per_label_test, esm2_t36_3B_UR50D_f1_score_list, \"DNN ESM2 3B\"))"
   ],
   "metadata": {
    "collapsed": false
   },
   "id": "8bd9bc6d12ce1df7"
  },
  {
   "cell_type": "code",
   "outputs": [],
   "source": [
    "results = pd.concat((results, pd.DataFrame(\n",
    "    get_results_for_threshold(comparison_esm1b, samples_per_label_test, esm1b_f1_score_list, \"DNN ESM1b\"),\n",
    "    )))\n",
    "results = pd.concat((results, pd.DataFrame(\n",
    "    get_results_for_threshold(comparison_protein_bert, samples_per_label_test, protein_bert_f1_score_list,\n",
    "                              \"DNN ProtBERT\"))))\n",
    "results.to_csv(\"results_for_threshold_by_ec_by_method.csv\", index=False)\n",
    "import pandas as pd\n",
    "\n",
    "results = pd.DataFrame(\n",
    "    get_results_for_threshold(comparison_3b, samples_per_label_test, esm2_t36_3B_UR50D_f1_score_list, \"DNN ESM2 3B\",\n",
    "                              blast=True))\n",
    "results = pd.concat((results, pd.DataFrame(\n",
    "    get_results_for_threshold(comparison_esm1b, samples_per_label_test, esm1b_f1_score_list, \"DNN ESM1b\", blast=True),\n",
    "    )))\n",
    "results = pd.concat((results, pd.DataFrame(\n",
    "    get_results_for_threshold(comparison_protein_bert, samples_per_label_test, protein_bert_f1_score_list,\n",
    "                              \"DNN ProtBERT\", blast=True))))\n",
    "results.to_csv(\"results_for_threshold_by_ec_by_method_with_blast.csv\", index=False)"
   ],
   "metadata": {
    "collapsed": false
   },
   "id": "2b32ea1297fd34c1"
  },
  {
   "cell_type": "code",
   "outputs": [],
   "source": [
    "aldo_keto_reductases = results[results[\"EC number\"].isin([\"1.1.1.107\", \"1.1.1.112\", \"1.1.1.116\", \"1.1.1.117\", \"1.1.1.122\", \n",
    "                                                          \"1.1.1.149\", \"1.1.1.156\", \"1.1.1.184\", \"1.1.1.188\", \"1.1.1.189\", \n",
    "                                                          \"1.1.1.19\", \"1.1.1.190\", \"1.1.1.191\", \"1.1.1.2\", \"1.1.1.20\", \"1.1.1.200\",\n",
    "                                                          \"1.1.1.209\", \"1.1.1.21\", \"1.1.1.210\", \"1.1.1.216\", \"1.1.1.218\", \"1.1.1.225\",\n",
    "                                                          \"1.1.1.239\", \"1.1.1.247\", \"1.1.1.263\", \"1.1.1.274\", \"1.1.1.283\", \"1.1.1.285\",\n",
    "                                                          \"1.1.1.300\", \"1.1.1.307\", \"1.1.1.316\", \"1.1.1.317\", \"1.1.1.334\", \"1.1.1.346\",\n",
    "                                                          \"1.1.1.353\", \"1.1.1.357\", \"1.1.1.358\", \"1.1.1.365\", \"1.1.1.372\", \"1.1.1.432\", \"1.1.1.50\",\n",
    "                                                          \"1.1.1.51\", \"1.1.1.53\", \"1.1.1.54\", \"1.1.1.62\", \"1.1.1.64\", \"1.1.1.65\", \"1.1.1.91\",\n",
    "                                                          ])]\n",
    "aldo_keto_reductases"
   ],
   "metadata": {
    "collapsed": false
   },
   "id": "2b0022b6ac219ca8"
  },
  {
   "cell_type": "code",
   "outputs": [],
   "source": [
    "aldo_keto_reductases[aldo_keto_reductases[\"Difference of F1 score\"] > 0].sort_values(by=\"Difference of F1 score\", ascending=False)"
   ],
   "metadata": {
    "collapsed": false
   },
   "id": "ff57ec92f619aebc"
  },
  {
   "cell_type": "code",
   "outputs": [],
   "source": [
    "len(aldo_keto_reductases[aldo_keto_reductases[\"Difference of F1 score\"] > 0][\"EC number\"].unique())"
   ],
   "metadata": {
    "collapsed": false
   },
   "id": "3f3af3b4f5872a75"
  },
  {
   "cell_type": "code",
   "outputs": [],
   "source": [
    "len(aldo_keto_reductases[\"EC number\"].unique())"
   ],
   "metadata": {
    "collapsed": false
   },
   "id": "7ddde52c4bdc1cdf"
  },
  {
   "cell_type": "code",
   "outputs": [],
   "source": [
    "aldo_keto_reductases[aldo_keto_reductases[\"Difference of F1 score\"] < 0]"
   ],
   "metadata": {
    "collapsed": false
   },
   "id": "245327caacab732b"
  },
  {
   "cell_type": "code",
   "outputs": [],
   "source": [
    "metal_dependent_hydrolases = results[results[\"EC number\"].isin([\"3.5.1.25\", \"3.5.1.5\", \"3.5.1.81\", \"3.5.1.82\", \"3.5.1.83\", \"3.5.1.91\", \"3.5.2.18\",\n",
    "                                                                \"3.5.2.2\", \"3.5.2.3\", \"3.5.2.5\", \"3.5.2.7\", \"3.5.3.13\", \"3.5.4.1\", \"3.5.4.11\", \"3.5.4.2\",\n",
    "                                                                \"3.5.4.28\", \"3.5.4.3\", \"3.5.4.31\", \"3.5.4.32\", \"3.5.4.4\", \"3.5.4.40\", \"3.5.4.41\", \"3.5.4.42\", \"3.5.4.43\",\n",
    "                                                                \"3.5.4.45\"]\n",
    "                                                          )]\n",
    "metal_dependent_hydrolases"
   ],
   "metadata": {
    "collapsed": false
   },
   "id": "44b1de3a99c8aa44"
  },
  {
   "cell_type": "code",
   "outputs": [],
   "source": [
    "metal_dependent_hydrolases[metal_dependent_hydrolases[\"Difference of F1 score\"] > 0].sort_values(by=\"Difference of F1 score\", ascending=False)"
   ],
   "metadata": {
    "collapsed": false
   },
   "id": "d761f6afc6bda741"
  },
  {
   "cell_type": "code",
   "outputs": [],
   "source": [
    "len(metal_dependent_hydrolases[metal_dependent_hydrolases[\"Difference of F1 score\"] > 0][\"EC number\"].unique())"
   ],
   "metadata": {
    "collapsed": false
   },
   "id": "71e68578f73988ff"
  },
  {
   "cell_type": "code",
   "outputs": [],
   "source": [
    "len(metal_dependent_hydrolases[\"EC number\"].unique())"
   ],
   "metadata": {
    "collapsed": false
   },
   "id": "63ed89f7e57c63e6"
  },
  {
   "cell_type": "code",
   "outputs": [],
   "source": [
    "metal_dependent_hydrolases[metal_dependent_hydrolases[\"Difference of F1 score\"] < 0].sort_values(by=\"Difference of F1 score\", ascending=False)"
   ],
   "metadata": {
    "collapsed": false
   },
   "id": "9cd64f089fbe8361"
  },
  {
   "cell_type": "code",
   "outputs": [],
   "source": [
    "epoxide_hydrolases = results[results[\"EC number\"].isin([\"2.3.1.51\", \"3.1.1.1\", \"3.1.1.2\", \"3.1.1.23\", \"3.1.1.3\", \"3.1.1.35\", \"3.1.1.85\", \"3.1.1.89\",\n",
    "                                   \"3.1.3.76\", \"3.3.2.10\", \"3.3.2.9\", \"3.7.1.14\", \"3.7.1.17\", \"3.7.1.25\", \"3.7.1.8\", \"3.7.1.9\", \n",
    "                                   \"3.8.1.3\", \"3.8.1.5\"])]"
   ],
   "metadata": {
    "collapsed": false
   },
   "id": "1956a0abb370e1e7"
  },
  {
   "cell_type": "code",
   "outputs": [],
   "source": [
    "epoxide_hydrolases[epoxide_hydrolases[\"Difference of F1 score\"] > 0][\"EC number\"].unique()"
   ],
   "metadata": {
    "collapsed": false
   },
   "id": "743e6d03e8268bf1"
  },
  {
   "cell_type": "code",
   "outputs": [],
   "source": [
    "len(epoxide_hydrolases[epoxide_hydrolases[\"Difference of F1 score\"] < 0][\"EC number\"].unique())"
   ],
   "metadata": {
    "collapsed": false
   },
   "id": "6215137627397c28"
  },
  {
   "cell_type": "code",
   "outputs": [],
   "source": [
    "results[results[\"EC number\"]==\"2.3.3.1\"]"
   ],
   "metadata": {
    "collapsed": false
   },
   "id": "255c26c240ee7f9"
  },
  {
   "cell_type": "code",
   "outputs": [],
   "source": [
    "results[results[\"EC number\"].isin([\"2.3.3.1\", \"2.3.3.16\", \"2.3.3.5\", \"2.3.3.8\"])]"
   ],
   "metadata": {
    "collapsed": false
   },
   "id": "de5f626d67057880"
  },
  {
   "cell_type": "code",
   "outputs": [],
   "source": [
    "results[results[\"EC number\"]==\"2.6.1.44\"]"
   ],
   "metadata": {
    "collapsed": false
   },
   "id": "b843ef41c8a15dea"
  },
  {
   "cell_type": "code",
   "outputs": [],
   "source": [
    "results[results[\"EC number\"].isin([\"2.6.1.52\", \"2.6.1.45\", \"2.6.1.51\", \"2.6.1.44\", \"2.6.1.112\", \"2.6.1.30\", \"2.6.1.35\", \"2.6.1.37\", \n",
    "                                   \"2.6.1.63\"])]"
   ],
   "metadata": {
    "collapsed": false
   },
   "id": "323ee265e3169f68"
  },
  {
   "cell_type": "code",
   "outputs": [],
   "source": [
    "with open(\"amino_transferases\", \"r\") as f:\n",
    "    amino_transferases = f.read().splitlines()\n",
    "\n",
    "amino_transferases = [x.strip() for x in amino_transferases]\n",
    "\n",
    "amino_transferases = results[results[\"EC number\"].isin(amino_transferases)]\n",
    "len(amino_transferases[amino_transferases[\"Difference of F1 score\"] < 0][\"EC number\"].unique())"
   ],
   "metadata": {
    "collapsed": false
   },
   "id": "3b16c9685e82456a"
  },
  {
   "cell_type": "code",
   "outputs": [],
   "source": [
    "len(amino_transferases[amino_transferases[\"Difference of F1 score\"] > 0][\"EC number\"].unique())"
   ],
   "metadata": {
    "collapsed": false
   },
   "id": "dc34e9b9f39e1936"
  },
  {
   "cell_type": "code",
   "outputs": [],
   "source": [
    "amino_transferases[amino_transferases[\"Difference of F1 score\"] > 0].sort_values(by=\"Difference of F1 score\", ascending=False)"
   ],
   "metadata": {
    "collapsed": false
   },
   "id": "44d9cb2bfa183dca"
  },
  {
   "cell_type": "code",
   "outputs": [],
   "source": [
    "len(amino_transferases[\"EC number\"].unique())"
   ],
   "metadata": {
    "collapsed": false
   },
   "id": "eb01b940f102db2d"
  }
 ],
 "metadata": {
  "kernelspec": {
   "display_name": "Python 3",
   "language": "python",
   "name": "python3"
  },
  "language_info": {
   "codemirror_mode": {
    "name": "ipython",
    "version": 2
   },
   "file_extension": ".py",
   "mimetype": "text/x-python",
   "name": "python",
   "nbconvert_exporter": "python",
   "pygments_lexer": "ipython2",
   "version": "2.7.6"
  }
 },
 "nbformat": 4,
 "nbformat_minor": 5
}
