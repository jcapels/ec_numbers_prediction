{
 "cells": [
  {
   "cell_type": "markdown",
   "source": [
    "# Make predictions for all models"
   ],
   "metadata": {
    "collapsed": false
   },
   "id": "f240e06de5e600ad"
  },
  {
   "cell_type": "code",
   "outputs": [],
   "source": [
    "from plants_sm.models.pytorch_model import PyTorchModel\n",
    "\n",
    "models = [(\"DeepEC\", \"one_hot_encoding\", \"/scratch/jribeiro/results/one_hot_encoding/ABCMeta_one_hot_encoding/DeepEC_merged_merged\"), \n",
    "          (\"DSPACE\", \"one_hot_encoding\", \"/scratch/jribeiro/results/one_hot_encoding/ABCMeta_one_hot_encoding/DSPACE_merged_merged\"),\n",
    "          (\"esm2_t36_3B_UR50D\", \"/scratch/jribeiro/results/esm2_t36_3B_UR50D/DNN_esm2_t36_3B_UR50D/DNN_esm2_t36_3B_UR50D_trial_2_merged\"), \n",
    "          (\"prot_bert_vectors\", \"/scratch/jribeiro/results/prot_bert_vectors/DNN_prot_bert_vectors/DNN_prot_bert_vectors_trial_2_merged\"), \n",
    "          (\"esm1b_t33_650M_UR50S\", \"/scratch/jribeiro/results/esm1b_t33_650M_UR50S/DNN_esm1b_t33_650M_UR50S/DNN_esm1b_t33_650M_UR50S_trial_4_merged\"), \n",
    "         ]\n",
    "from plants_sm.data_structures.dataset.single_input_dataset import SingleInputDataset\n",
    "\n",
    "test_dataset = SingleInputDataset.from_csv('/scratch/jribeiro/ec_number_prediction/final_data/test.csv',\n",
    "                                            instances_ids_field=\"accession\", representation_field=\"sequence\",\n",
    "                                            labels_field=slice(8, 2779))\n",
    "\n",
    "\n",
    "for model_name, encoding, path in models:\n",
    "\n",
    "    model = PyTorchModel.load(path)\n",
    "    if encoding == \"one_hot_encoding\":\n",
    "        test_dataset.load_features(f'/scratch/jribeiro/results/one_hot_encoding/test/')\n",
    "    else:\n",
    "        test_dataset.load_features(f'/scratch/jribeiro/results/{model_name}/test/')\n",
    "    predictions = model.predict(test_dataset)\n",
    "    # save predictions\n",
    "    import pickle\n",
    "    \n",
    "    with open(f\"/scratch/jribeiro/ec_number_prediction/final_data/predictions_{model_name}.pkl\", \"wb\") as f:\n",
    "        pickle.dump(predictions, f)"
   ],
   "metadata": {
    "collapsed": false
   },
   "id": "6a1e884a7777892f"
  }
 ],
 "metadata": {
  "kernelspec": {
   "display_name": "Python 3",
   "language": "python",
   "name": "python3"
  },
  "language_info": {
   "codemirror_mode": {
    "name": "ipython",
    "version": 2
   },
   "file_extension": ".py",
   "mimetype": "text/x-python",
   "name": "python",
   "nbconvert_exporter": "python",
   "pygments_lexer": "ipython2",
   "version": "2.7.6"
  }
 },
 "nbformat": 4,
 "nbformat_minor": 5
}
