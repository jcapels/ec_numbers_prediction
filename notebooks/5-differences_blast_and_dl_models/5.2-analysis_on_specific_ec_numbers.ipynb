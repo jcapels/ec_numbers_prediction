{
 "cells": [
  {
   "cell_type": "markdown",
   "id": "b17f8a18e56fda09",
   "metadata": {
    "collapsed": false
   },
   "source": [
    "# Analysis on specific EC numbers for the paper"
   ]
  },
  {
   "cell_type": "code",
   "execution_count": 4,
   "id": "3ef8c0c3f1581ca4",
   "metadata": {
    "ExecuteTime": {
     "end_time": "2024-01-31T12:33:20.399462018Z",
     "start_time": "2024-01-31T12:33:20.394315252Z"
    },
    "collapsed": false
   },
   "outputs": [],
   "source": [
    "# define the directory where the data is\n",
    "data_path = \"/home/jcapela/ec_numbers_prediction/required_data_ec_number_paper\""
   ]
  },
  {
   "cell_type": "code",
   "execution_count": 5,
   "id": "4048ba9c21b50f50",
   "metadata": {
    "ExecuteTime": {
     "end_time": "2024-01-31T12:33:37.679263475Z",
     "start_time": "2024-01-31T12:33:20.394634253Z"
    },
    "collapsed": false
   },
   "outputs": [
    {
     "name": "stderr",
     "output_type": "stream",
     "text": [
      "/tmp/ipykernel_1827346/2161762027.py:3: DtypeWarning: Columns (4,5) have mixed types. Specify dtype option on import or set low_memory=False.\n",
      "  test = pd.read_csv(f'{data_path}/data/test.csv')\n"
     ]
    }
   ],
   "source": [
    "import pandas as pd\n",
    "\n",
    "test = pd.read_csv(f'{data_path}/data/test.csv')"
   ]
  },
  {
   "cell_type": "code",
   "execution_count": 7,
   "id": "ebcf676bac32716f",
   "metadata": {
    "ExecuteTime": {
     "end_time": "2024-01-31T12:33:37.707402054Z",
     "start_time": "2024-01-31T12:33:37.680778671Z"
    },
    "collapsed": false
   },
   "outputs": [],
   "source": [
    "# now open everything\n",
    "import pickle\n",
    "\n",
    "with open(f'{data_path}/f1_scores/blast_f1_score.pkl', 'rb') as f:\n",
    "    blast_f1_score = pickle.load(f)\n",
    "\n",
    "import pickle\n",
    "\n",
    "with open(f'{data_path}/f1_scores/esm2_t36_3B_UR50D_f1_score.pkl', 'rb') as f:\n",
    "    esm2_t36_3B_UR50D_f1_score_list = pickle.load(f)\n",
    "\n",
    "with open(f'{data_path}/f1_scores/prot_bert_f1_score.pkl', 'rb') as f:\n",
    "    protein_bert_f1_score_list = pickle.load(f)\n",
    "\n",
    "with open(f'{data_path}/f1_scores/esm1b_f1_score.pkl', 'rb') as f:\n",
    "    esm1b_f1_score_list = pickle.load(f)\n"
   ]
  },
  {
   "cell_type": "code",
   "execution_count": 8,
   "id": "3675136f5d652524",
   "metadata": {
    "ExecuteTime": {
     "start_time": "2024-01-31T12:33:37.711820973Z"
    },
    "collapsed": false
   },
   "outputs": [],
   "source": [
    "import pandas as pd\n",
    "\n",
    "labels = pd.read_csv(f'{data_path}/data/train.csv', nrows=2).columns[8:]"
   ]
  },
  {
   "cell_type": "code",
   "execution_count": 9,
   "id": "18941c6be380cae6",
   "metadata": {
    "ExecuteTime": {
     "end_time": "2024-01-31T12:33:37.725120392Z",
     "start_time": "2024-01-31T12:33:37.712457563Z"
    },
    "collapsed": false
   },
   "outputs": [],
   "source": [
    "def get_best_above_threshold(metric_values, threshold):\n",
    "    best_above_threshold = []\n",
    "    for i, value in enumerate(metric_values):\n",
    "        if threshold < 0 and value < threshold:\n",
    "            best_above_threshold.append(i)\n",
    "        elif threshold > 0 and value > threshold:\n",
    "            best_above_threshold.append(i)\n",
    "    return best_above_threshold"
   ]
  },
  {
   "cell_type": "code",
   "execution_count": 10,
   "id": "10a926623e939a72",
   "metadata": {
    "ExecuteTime": {
     "start_time": "2024-01-31T12:33:37.713050421Z"
    },
    "collapsed": false
   },
   "outputs": [],
   "source": [
    "import numpy as np\n",
    "test = test.iloc[:, 8:]\n",
    "num_labels = test.shape[1]\n",
    "samples_per_label_test = np.zeros(num_labels, dtype=int)\n",
    "\n",
    "for label in range(num_labels):\n",
    "    samples_per_label_test[label] = np.sum(test.iloc[:, label])"
   ]
  },
  {
   "cell_type": "code",
   "execution_count": 11,
   "id": "7ffb47a5169106d7",
   "metadata": {
    "ExecuteTime": {
     "start_time": "2024-01-31T12:33:37.713593995Z"
    },
    "collapsed": false
   },
   "outputs": [],
   "source": [
    "def get_results_for_threshold(comparison, samples_per_label_test, f1_score_list, method, blast=False):\n",
    "    results = {}\n",
    "    results[\"method\"] = []\n",
    "    results[\"threshold\"] = []\n",
    "    results[\"EC number\"] = []\n",
    "    results[\"Number of positives\"] = []\n",
    "    results[\"F1 score\"] = []\n",
    "    results[\"Difference of F1 score\"] = []\n",
    "    for threshold in [0.000000000000000000001, 0.1, 0.2, 0.3]:\n",
    "        for i in get_best_above_threshold(comparison, threshold):\n",
    "            results[\"method\"].append(method)\n",
    "            results[\"threshold\"].append(threshold)\n",
    "            results[\"EC number\"].append(labels[i])\n",
    "            results[\"Number of positives\"].append(samples_per_label_test[i])\n",
    "            results[\"F1 score\"].append(np.array(f1_score_list)[i])\n",
    "            results[\"Difference of F1 score\"].append(comparison[i])\n",
    "        \n",
    "        if blast:\n",
    "            for i in get_best_above_threshold(comparison, -threshold):\n",
    "                results[\"method\"].append(f\"{method} - BLASTp\")\n",
    "                results[\"threshold\"].append(threshold)\n",
    "                results[\"EC number\"].append(labels[i])\n",
    "                results[\"Number of positives\"].append(samples_per_label_test[i])\n",
    "                results[\"F1 score\"].append(np.array(blast_f1_score)[i])\n",
    "                results[\"Difference of F1 score\"].append(comparison[i])\n",
    "\n",
    "    return results"
   ]
  },
  {
   "cell_type": "code",
   "execution_count": 12,
   "id": "ee1bbad8910f51ec",
   "metadata": {
    "ExecuteTime": {
     "start_time": "2024-01-31T12:33:37.714204506Z"
    },
    "collapsed": false
   },
   "outputs": [],
   "source": [
    "def get_comparison_results(model_f1_list, blast_f1_list):\n",
    "    comparison = []\n",
    "    for i in range(len(blast_f1_list)):\n",
    "        comparison.append(model_f1_list[i] - blast_f1_list[i])\n",
    "    return comparison\n",
    "\n",
    "comparison_3b = get_comparison_results(esm2_t36_3B_UR50D_f1_score_list, blast_f1_score)\n",
    "comparison_esm1b = get_comparison_results(esm1b_f1_score_list, blast_f1_score)\n",
    "comparison_protein_bert = get_comparison_results(protein_bert_f1_score_list, blast_f1_score)"
   ]
  },
  {
   "cell_type": "code",
   "execution_count": 13,
   "id": "8bd9bc6d12ce1df7",
   "metadata": {
    "ExecuteTime": {
     "start_time": "2024-01-31T12:33:37.715594246Z"
    },
    "collapsed": false
   },
   "outputs": [],
   "source": [
    "import pandas as pd\n",
    "\n",
    "results = pd.DataFrame(get_results_for_threshold(comparison_3b, samples_per_label_test, esm2_t36_3B_UR50D_f1_score_list, \"DNN ESM2 3B\"))"
   ]
  },
  {
   "cell_type": "code",
   "execution_count": 14,
   "id": "2b32ea1297fd34c1",
   "metadata": {
    "ExecuteTime": {
     "start_time": "2024-01-31T12:33:37.716318872Z"
    },
    "collapsed": false
   },
   "outputs": [],
   "source": [
    "results = pd.concat((results, pd.DataFrame(\n",
    "    get_results_for_threshold(comparison_esm1b, samples_per_label_test, esm1b_f1_score_list, \"DNN ESM1b\"),\n",
    "    )))\n",
    "results = pd.concat((results, pd.DataFrame(\n",
    "    get_results_for_threshold(comparison_protein_bert, samples_per_label_test, protein_bert_f1_score_list,\n",
    "                              \"DNN ProtBERT\"))))\n",
    "results.to_csv(\"results_for_threshold_by_ec_by_method.csv\", index=False)\n",
    "import pandas as pd\n",
    "\n",
    "results = pd.DataFrame(\n",
    "    get_results_for_threshold(comparison_3b, samples_per_label_test, esm2_t36_3B_UR50D_f1_score_list, \"DNN ESM2 3B\",\n",
    "                              blast=True))\n",
    "results = pd.concat((results, pd.DataFrame(\n",
    "    get_results_for_threshold(comparison_esm1b, samples_per_label_test, esm1b_f1_score_list, \"DNN ESM1b\", blast=True),\n",
    "    )))\n",
    "results = pd.concat((results, pd.DataFrame(\n",
    "    get_results_for_threshold(comparison_protein_bert, samples_per_label_test, protein_bert_f1_score_list,\n",
    "                              \"DNN ProtBERT\", blast=True))))\n",
    "results.to_csv(\"results_for_threshold_by_ec_by_method_with_blast.csv\", index=False)"
   ]
  },
  {
   "cell_type": "code",
   "execution_count": 18,
   "id": "6ad3f625",
   "metadata": {},
   "outputs": [
    {
     "data": {
      "text/html": [
       "<div>\n",
       "<style scoped>\n",
       "    .dataframe tbody tr th:only-of-type {\n",
       "        vertical-align: middle;\n",
       "    }\n",
       "\n",
       "    .dataframe tbody tr th {\n",
       "        vertical-align: top;\n",
       "    }\n",
       "\n",
       "    .dataframe thead th {\n",
       "        text-align: right;\n",
       "    }\n",
       "</style>\n",
       "<table border=\"1\" class=\"dataframe\">\n",
       "  <thead>\n",
       "    <tr style=\"text-align: right;\">\n",
       "      <th></th>\n",
       "      <th>method</th>\n",
       "      <th>threshold</th>\n",
       "      <th>EC number</th>\n",
       "      <th>Number of positives</th>\n",
       "      <th>F1 score</th>\n",
       "      <th>Difference of F1 score</th>\n",
       "    </tr>\n",
       "  </thead>\n",
       "  <tbody>\n",
       "    <tr>\n",
       "      <th>84</th>\n",
       "      <td>DNN ESM1b</td>\n",
       "      <td>1.000000e-21</td>\n",
       "      <td>1.1.1.274</td>\n",
       "      <td>14</td>\n",
       "      <td>0.774194</td>\n",
       "      <td>0.403823</td>\n",
       "    </tr>\n",
       "    <tr>\n",
       "      <th>666</th>\n",
       "      <td>DNN ESM1b</td>\n",
       "      <td>1.000000e-21</td>\n",
       "      <td>4.3.2.3</td>\n",
       "      <td>14</td>\n",
       "      <td>0.923077</td>\n",
       "      <td>0.408791</td>\n",
       "    </tr>\n",
       "    <tr>\n",
       "      <th>1934</th>\n",
       "      <td>DNN ESM1b</td>\n",
       "      <td>1.000000e-01</td>\n",
       "      <td>1.1.1.274</td>\n",
       "      <td>14</td>\n",
       "      <td>0.774194</td>\n",
       "      <td>0.403823</td>\n",
       "    </tr>\n",
       "    <tr>\n",
       "      <th>2012</th>\n",
       "      <td>DNN ESM1b</td>\n",
       "      <td>1.000000e-01</td>\n",
       "      <td>4.3.2.3</td>\n",
       "      <td>14</td>\n",
       "      <td>0.923077</td>\n",
       "      <td>0.408791</td>\n",
       "    </tr>\n",
       "    <tr>\n",
       "      <th>2186</th>\n",
       "      <td>DNN ESM1b</td>\n",
       "      <td>2.000000e-01</td>\n",
       "      <td>1.1.1.274</td>\n",
       "      <td>14</td>\n",
       "      <td>0.774194</td>\n",
       "      <td>0.403823</td>\n",
       "    </tr>\n",
       "    <tr>\n",
       "      <th>2199</th>\n",
       "      <td>DNN ESM1b</td>\n",
       "      <td>2.000000e-01</td>\n",
       "      <td>4.3.2.3</td>\n",
       "      <td>14</td>\n",
       "      <td>0.923077</td>\n",
       "      <td>0.408791</td>\n",
       "    </tr>\n",
       "    <tr>\n",
       "      <th>2231</th>\n",
       "      <td>DNN ESM1b</td>\n",
       "      <td>3.000000e-01</td>\n",
       "      <td>1.1.1.274</td>\n",
       "      <td>14</td>\n",
       "      <td>0.774194</td>\n",
       "      <td>0.403823</td>\n",
       "    </tr>\n",
       "    <tr>\n",
       "      <th>2232</th>\n",
       "      <td>DNN ESM1b</td>\n",
       "      <td>3.000000e-01</td>\n",
       "      <td>4.3.2.3</td>\n",
       "      <td>14</td>\n",
       "      <td>0.923077</td>\n",
       "      <td>0.408791</td>\n",
       "    </tr>\n",
       "  </tbody>\n",
       "</table>\n",
       "</div>"
      ],
      "text/plain": [
       "         method     threshold  EC number  Number of positives  F1 score  \\\n",
       "84    DNN ESM1b  1.000000e-21  1.1.1.274                   14  0.774194   \n",
       "666   DNN ESM1b  1.000000e-21    4.3.2.3                   14  0.923077   \n",
       "1934  DNN ESM1b  1.000000e-01  1.1.1.274                   14  0.774194   \n",
       "2012  DNN ESM1b  1.000000e-01    4.3.2.3                   14  0.923077   \n",
       "2186  DNN ESM1b  2.000000e-01  1.1.1.274                   14  0.774194   \n",
       "2199  DNN ESM1b  2.000000e-01    4.3.2.3                   14  0.923077   \n",
       "2231  DNN ESM1b  3.000000e-01  1.1.1.274                   14  0.774194   \n",
       "2232  DNN ESM1b  3.000000e-01    4.3.2.3                   14  0.923077   \n",
       "\n",
       "      Difference of F1 score  \n",
       "84                  0.403823  \n",
       "666                 0.408791  \n",
       "1934                0.403823  \n",
       "2012                0.408791  \n",
       "2186                0.403823  \n",
       "2199                0.408791  \n",
       "2231                0.403823  \n",
       "2232                0.408791  "
      ]
     },
     "execution_count": 18,
     "metadata": {},
     "output_type": "execute_result"
    }
   ],
   "source": [
    "results[results[\"Difference of F1 score\"] > 0.4]"
   ]
  },
  {
   "cell_type": "code",
   "execution_count": 15,
   "id": "2b0022b6ac219ca8",
   "metadata": {
    "ExecuteTime": {
     "start_time": "2024-01-31T12:33:37.716934893Z"
    },
    "collapsed": false
   },
   "outputs": [
    {
     "data": {
      "text/html": [
       "<div>\n",
       "<style scoped>\n",
       "    .dataframe tbody tr th:only-of-type {\n",
       "        vertical-align: middle;\n",
       "    }\n",
       "\n",
       "    .dataframe tbody tr th {\n",
       "        vertical-align: top;\n",
       "    }\n",
       "\n",
       "    .dataframe thead th {\n",
       "        text-align: right;\n",
       "    }\n",
       "</style>\n",
       "<table border=\"1\" class=\"dataframe\">\n",
       "  <thead>\n",
       "    <tr style=\"text-align: right;\">\n",
       "      <th></th>\n",
       "      <th>method</th>\n",
       "      <th>threshold</th>\n",
       "      <th>EC number</th>\n",
       "      <th>Number of positives</th>\n",
       "      <th>F1 score</th>\n",
       "      <th>Difference of F1 score</th>\n",
       "    </tr>\n",
       "  </thead>\n",
       "  <tbody>\n",
       "    <tr>\n",
       "      <th>91</th>\n",
       "      <td>DNN ESM2 3B</td>\n",
       "      <td>1.000000e-21</td>\n",
       "      <td>1.1.1.107</td>\n",
       "      <td>14</td>\n",
       "      <td>0.592593</td>\n",
       "      <td>0.148148</td>\n",
       "    </tr>\n",
       "    <tr>\n",
       "      <th>97</th>\n",
       "      <td>DNN ESM2 3B</td>\n",
       "      <td>1.000000e-21</td>\n",
       "      <td>1.1.1.184</td>\n",
       "      <td>14</td>\n",
       "      <td>0.800000</td>\n",
       "      <td>0.050000</td>\n",
       "    </tr>\n",
       "    <tr>\n",
       "      <th>99</th>\n",
       "      <td>DNN ESM2 3B</td>\n",
       "      <td>1.000000e-21</td>\n",
       "      <td>1.1.1.2</td>\n",
       "      <td>14</td>\n",
       "      <td>0.740741</td>\n",
       "      <td>0.020741</td>\n",
       "    </tr>\n",
       "    <tr>\n",
       "      <th>101</th>\n",
       "      <td>DNN ESM2 3B</td>\n",
       "      <td>1.000000e-21</td>\n",
       "      <td>1.1.1.218</td>\n",
       "      <td>14</td>\n",
       "      <td>0.880000</td>\n",
       "      <td>0.080000</td>\n",
       "    </tr>\n",
       "    <tr>\n",
       "      <th>105</th>\n",
       "      <td>DNN ESM2 3B</td>\n",
       "      <td>1.000000e-21</td>\n",
       "      <td>1.1.1.274</td>\n",
       "      <td>14</td>\n",
       "      <td>0.500000</td>\n",
       "      <td>0.129630</td>\n",
       "    </tr>\n",
       "    <tr>\n",
       "      <th>...</th>\n",
       "      <td>...</td>\n",
       "      <td>...</td>\n",
       "      <td>...</td>\n",
       "      <td>...</td>\n",
       "      <td>...</td>\n",
       "      <td>...</td>\n",
       "    </tr>\n",
       "    <tr>\n",
       "      <th>2017</th>\n",
       "      <td>DNN ProtBERT</td>\n",
       "      <td>1.000000e-01</td>\n",
       "      <td>1.1.1.51</td>\n",
       "      <td>14</td>\n",
       "      <td>0.740741</td>\n",
       "      <td>0.169312</td>\n",
       "    </tr>\n",
       "    <tr>\n",
       "      <th>2019</th>\n",
       "      <td>DNN ProtBERT</td>\n",
       "      <td>1.000000e-01</td>\n",
       "      <td>1.1.1.65</td>\n",
       "      <td>14</td>\n",
       "      <td>0.782609</td>\n",
       "      <td>0.115942</td>\n",
       "    </tr>\n",
       "    <tr>\n",
       "      <th>2123</th>\n",
       "      <td>DNN ProtBERT - BLASTp</td>\n",
       "      <td>1.000000e-01</td>\n",
       "      <td>1.1.1.122</td>\n",
       "      <td>14</td>\n",
       "      <td>0.384615</td>\n",
       "      <td>-0.111888</td>\n",
       "    </tr>\n",
       "    <tr>\n",
       "      <th>2127</th>\n",
       "      <td>DNN ProtBERT - BLASTp</td>\n",
       "      <td>1.000000e-01</td>\n",
       "      <td>1.1.1.307</td>\n",
       "      <td>14</td>\n",
       "      <td>0.903226</td>\n",
       "      <td>-0.162485</td>\n",
       "    </tr>\n",
       "    <tr>\n",
       "      <th>2309</th>\n",
       "      <td>DNN ProtBERT</td>\n",
       "      <td>2.000000e-01</td>\n",
       "      <td>1.1.1.346</td>\n",
       "      <td>14</td>\n",
       "      <td>0.640000</td>\n",
       "      <td>0.223333</td>\n",
       "    </tr>\n",
       "  </tbody>\n",
       "</table>\n",
       "<p>79 rows × 6 columns</p>\n",
       "</div>"
      ],
      "text/plain": [
       "                     method     threshold  EC number  Number of positives  \\\n",
       "91              DNN ESM2 3B  1.000000e-21  1.1.1.107                   14   \n",
       "97              DNN ESM2 3B  1.000000e-21  1.1.1.184                   14   \n",
       "99              DNN ESM2 3B  1.000000e-21    1.1.1.2                   14   \n",
       "101             DNN ESM2 3B  1.000000e-21  1.1.1.218                   14   \n",
       "105             DNN ESM2 3B  1.000000e-21  1.1.1.274                   14   \n",
       "...                     ...           ...        ...                  ...   \n",
       "2017           DNN ProtBERT  1.000000e-01   1.1.1.51                   14   \n",
       "2019           DNN ProtBERT  1.000000e-01   1.1.1.65                   14   \n",
       "2123  DNN ProtBERT - BLASTp  1.000000e-01  1.1.1.122                   14   \n",
       "2127  DNN ProtBERT - BLASTp  1.000000e-01  1.1.1.307                   14   \n",
       "2309           DNN ProtBERT  2.000000e-01  1.1.1.346                   14   \n",
       "\n",
       "      F1 score  Difference of F1 score  \n",
       "91    0.592593                0.148148  \n",
       "97    0.800000                0.050000  \n",
       "99    0.740741                0.020741  \n",
       "101   0.880000                0.080000  \n",
       "105   0.500000                0.129630  \n",
       "...        ...                     ...  \n",
       "2017  0.740741                0.169312  \n",
       "2019  0.782609                0.115942  \n",
       "2123  0.384615               -0.111888  \n",
       "2127  0.903226               -0.162485  \n",
       "2309  0.640000                0.223333  \n",
       "\n",
       "[79 rows x 6 columns]"
      ]
     },
     "execution_count": 15,
     "metadata": {},
     "output_type": "execute_result"
    }
   ],
   "source": [
    "aldo_keto_reductases = results[results[\"EC number\"].isin([\"1.1.1.107\", \"1.1.1.112\", \"1.1.1.116\", \"1.1.1.117\", \"1.1.1.122\", \n",
    "                                                          \"1.1.1.149\", \"1.1.1.156\", \"1.1.1.184\", \"1.1.1.188\", \"1.1.1.189\", \n",
    "                                                          \"1.1.1.19\", \"1.1.1.190\", \"1.1.1.191\", \"1.1.1.2\", \"1.1.1.20\", \"1.1.1.200\",\n",
    "                                                          \"1.1.1.209\", \"1.1.1.21\", \"1.1.1.210\", \"1.1.1.216\", \"1.1.1.218\", \"1.1.1.225\",\n",
    "                                                          \"1.1.1.239\", \"1.1.1.247\", \"1.1.1.263\", \"1.1.1.274\", \"1.1.1.283\", \"1.1.1.285\",\n",
    "                                                          \"1.1.1.300\", \"1.1.1.307\", \"1.1.1.316\", \"1.1.1.317\", \"1.1.1.334\", \"1.1.1.346\",\n",
    "                                                          \"1.1.1.353\", \"1.1.1.357\", \"1.1.1.358\", \"1.1.1.365\", \"1.1.1.372\", \"1.1.1.432\", \"1.1.1.50\",\n",
    "                                                          \"1.1.1.51\", \"1.1.1.53\", \"1.1.1.54\", \"1.1.1.62\", \"1.1.1.64\", \"1.1.1.65\", \"1.1.1.91\",\n",
    "                                                          ])]\n",
    "aldo_keto_reductases"
   ]
  },
  {
   "cell_type": "code",
   "execution_count": null,
   "id": "ff57ec92f619aebc",
   "metadata": {
    "ExecuteTime": {
     "start_time": "2024-01-31T12:33:37.717522871Z"
    },
    "collapsed": false
   },
   "outputs": [],
   "source": [
    "aldo_keto_reductases[aldo_keto_reductases[\"Difference of F1 score\"] > 0].sort_values(by=\"Difference of F1 score\", ascending=False)"
   ]
  },
  {
   "cell_type": "code",
   "execution_count": null,
   "id": "3f3af3b4f5872a75",
   "metadata": {
    "ExecuteTime": {
     "start_time": "2024-01-31T12:33:37.717961808Z"
    },
    "collapsed": false
   },
   "outputs": [],
   "source": [
    "len(aldo_keto_reductases[aldo_keto_reductases[\"Difference of F1 score\"] > 0][\"EC number\"].unique())"
   ]
  },
  {
   "cell_type": "code",
   "execution_count": null,
   "id": "7ddde52c4bdc1cdf",
   "metadata": {
    "ExecuteTime": {
     "start_time": "2024-01-31T12:33:37.718348477Z"
    },
    "collapsed": false
   },
   "outputs": [],
   "source": [
    "len(aldo_keto_reductases[\"EC number\"].unique())"
   ]
  },
  {
   "cell_type": "code",
   "execution_count": null,
   "id": "245327caacab732b",
   "metadata": {
    "ExecuteTime": {
     "start_time": "2024-01-31T12:33:37.719063976Z"
    },
    "collapsed": false
   },
   "outputs": [],
   "source": [
    "aldo_keto_reductases[aldo_keto_reductases[\"Difference of F1 score\"] < 0]"
   ]
  },
  {
   "cell_type": "code",
   "execution_count": null,
   "id": "44b1de3a99c8aa44",
   "metadata": {
    "ExecuteTime": {
     "start_time": "2024-01-31T12:33:37.719719862Z"
    },
    "collapsed": false
   },
   "outputs": [],
   "source": [
    "metal_dependent_hydrolases = results[results[\"EC number\"].isin([\"3.5.1.25\", \"3.5.1.5\", \"3.5.1.81\", \"3.5.1.82\", \"3.5.1.83\", \"3.5.1.91\", \"3.5.2.18\",\n",
    "                                                                \"3.5.2.2\", \"3.5.2.3\", \"3.5.2.5\", \"3.5.2.7\", \"3.5.3.13\", \"3.5.4.1\", \"3.5.4.11\", \"3.5.4.2\",\n",
    "                                                                \"3.5.4.28\", \"3.5.4.3\", \"3.5.4.31\", \"3.5.4.32\", \"3.5.4.4\", \"3.5.4.40\", \"3.5.4.41\", \"3.5.4.42\", \"3.5.4.43\",\n",
    "                                                                \"3.5.4.45\"]\n",
    "                                                          )]\n",
    "metal_dependent_hydrolases"
   ]
  },
  {
   "cell_type": "code",
   "execution_count": null,
   "id": "d761f6afc6bda741",
   "metadata": {
    "ExecuteTime": {
     "start_time": "2024-01-31T12:33:37.720041488Z"
    },
    "collapsed": false
   },
   "outputs": [],
   "source": [
    "metal_dependent_hydrolases[metal_dependent_hydrolases[\"Difference of F1 score\"] > 0].sort_values(by=\"Difference of F1 score\", ascending=False)"
   ]
  },
  {
   "cell_type": "code",
   "execution_count": null,
   "id": "71e68578f73988ff",
   "metadata": {
    "ExecuteTime": {
     "start_time": "2024-01-31T12:33:37.720290498Z"
    },
    "collapsed": false
   },
   "outputs": [],
   "source": [
    "len(metal_dependent_hydrolases[metal_dependent_hydrolases[\"Difference of F1 score\"] > 0][\"EC number\"].unique())"
   ]
  },
  {
   "cell_type": "code",
   "execution_count": null,
   "id": "63ed89f7e57c63e6",
   "metadata": {
    "ExecuteTime": {
     "start_time": "2024-01-31T12:33:37.720509260Z"
    },
    "collapsed": false
   },
   "outputs": [],
   "source": [
    "len(metal_dependent_hydrolases[\"EC number\"].unique())"
   ]
  },
  {
   "cell_type": "code",
   "execution_count": null,
   "id": "9cd64f089fbe8361",
   "metadata": {
    "ExecuteTime": {
     "start_time": "2024-01-31T12:33:37.720888345Z"
    },
    "collapsed": false
   },
   "outputs": [],
   "source": [
    "metal_dependent_hydrolases[metal_dependent_hydrolases[\"Difference of F1 score\"] < 0].sort_values(by=\"Difference of F1 score\", ascending=False)"
   ]
  },
  {
   "cell_type": "code",
   "execution_count": null,
   "id": "1956a0abb370e1e7",
   "metadata": {
    "ExecuteTime": {
     "start_time": "2024-01-31T12:33:37.756895295Z"
    },
    "collapsed": false
   },
   "outputs": [],
   "source": [
    "epoxide_hydrolases = results[results[\"EC number\"].isin([\"2.3.1.51\", \"3.1.1.1\", \"3.1.1.2\", \"3.1.1.23\", \"3.1.1.3\", \"3.1.1.35\", \"3.1.1.85\", \"3.1.1.89\",\n",
    "                                   \"3.1.3.76\", \"3.3.2.10\", \"3.3.2.9\", \"3.7.1.14\", \"3.7.1.17\", \"3.7.1.25\", \"3.7.1.8\", \"3.7.1.9\", \n",
    "                                   \"3.8.1.3\", \"3.8.1.5\"])]"
   ]
  },
  {
   "cell_type": "code",
   "execution_count": null,
   "id": "743e6d03e8268bf1",
   "metadata": {
    "ExecuteTime": {
     "start_time": "2024-01-31T12:33:37.757176765Z"
    },
    "collapsed": false
   },
   "outputs": [],
   "source": [
    "epoxide_hydrolases[epoxide_hydrolases[\"Difference of F1 score\"] > 0][\"EC number\"].unique()"
   ]
  },
  {
   "cell_type": "code",
   "execution_count": null,
   "id": "6215137627397c28",
   "metadata": {
    "ExecuteTime": {
     "start_time": "2024-01-31T12:33:37.757336857Z"
    },
    "collapsed": false
   },
   "outputs": [],
   "source": [
    "len(epoxide_hydrolases[epoxide_hydrolases[\"Difference of F1 score\"] < 0][\"EC number\"].unique())"
   ]
  },
  {
   "cell_type": "code",
   "execution_count": null,
   "id": "255c26c240ee7f9",
   "metadata": {
    "ExecuteTime": {
     "start_time": "2024-01-31T12:33:37.757464167Z"
    },
    "collapsed": false
   },
   "outputs": [],
   "source": [
    "results[results[\"EC number\"]==\"2.3.3.1\"]"
   ]
  },
  {
   "cell_type": "code",
   "execution_count": null,
   "id": "de5f626d67057880",
   "metadata": {
    "ExecuteTime": {
     "start_time": "2024-01-31T12:33:37.757594633Z"
    },
    "collapsed": false
   },
   "outputs": [],
   "source": [
    "results[results[\"EC number\"].isin([\"2.3.3.1\", \"2.3.3.16\", \"2.3.3.5\", \"2.3.3.8\"])]"
   ]
  },
  {
   "cell_type": "code",
   "execution_count": null,
   "id": "b843ef41c8a15dea",
   "metadata": {
    "ExecuteTime": {
     "start_time": "2024-01-31T12:33:37.757722845Z"
    },
    "collapsed": false
   },
   "outputs": [],
   "source": [
    "results[results[\"EC number\"]==\"2.6.1.44\"]"
   ]
  },
  {
   "cell_type": "code",
   "execution_count": null,
   "id": "323ee265e3169f68",
   "metadata": {
    "ExecuteTime": {
     "start_time": "2024-01-31T12:33:37.757849443Z"
    },
    "collapsed": false
   },
   "outputs": [],
   "source": [
    "results[results[\"EC number\"].isin([\"2.6.1.52\", \"2.6.1.45\", \"2.6.1.51\", \"2.6.1.44\", \"2.6.1.112\", \"2.6.1.30\", \"2.6.1.35\", \"2.6.1.37\", \n",
    "                                   \"2.6.1.63\"])]"
   ]
  },
  {
   "cell_type": "code",
   "execution_count": null,
   "id": "3b16c9685e82456a",
   "metadata": {
    "ExecuteTime": {
     "start_time": "2024-01-31T12:33:37.757980470Z"
    },
    "collapsed": false
   },
   "outputs": [],
   "source": [
    "with open(\"amino_transferases\", \"r\") as f:\n",
    "    amino_transferases = f.read().splitlines()\n",
    "\n",
    "amino_transferases = [x.strip() for x in amino_transferases]\n",
    "\n",
    "amino_transferases = results[results[\"EC number\"].isin(amino_transferases)]\n",
    "len(amino_transferases[amino_transferases[\"Difference of F1 score\"] < 0][\"EC number\"].unique())"
   ]
  },
  {
   "cell_type": "code",
   "execution_count": null,
   "id": "dc34e9b9f39e1936",
   "metadata": {
    "ExecuteTime": {
     "start_time": "2024-01-31T12:33:37.758122688Z"
    },
    "collapsed": false
   },
   "outputs": [],
   "source": [
    "len(amino_transferases[amino_transferases[\"Difference of F1 score\"] > 0][\"EC number\"].unique())"
   ]
  },
  {
   "cell_type": "code",
   "execution_count": null,
   "id": "44d9cb2bfa183dca",
   "metadata": {
    "ExecuteTime": {
     "start_time": "2024-01-31T12:33:37.758250529Z"
    },
    "collapsed": false
   },
   "outputs": [],
   "source": [
    "amino_transferases[amino_transferases[\"Difference of F1 score\"] > 0].sort_values(by=\"Difference of F1 score\", ascending=False)"
   ]
  },
  {
   "cell_type": "code",
   "execution_count": null,
   "id": "eb01b940f102db2d",
   "metadata": {
    "ExecuteTime": {
     "start_time": "2024-01-31T12:33:37.758375595Z"
    },
    "collapsed": false
   },
   "outputs": [],
   "source": [
    "len(amino_transferases[\"EC number\"].unique())"
   ]
  }
 ],
 "metadata": {
  "kernelspec": {
   "display_name": "Python 3",
   "language": "python",
   "name": "python3"
  },
  "language_info": {
   "codemirror_mode": {
    "name": "ipython",
    "version": 3
   },
   "file_extension": ".py",
   "mimetype": "text/x-python",
   "name": "python",
   "nbconvert_exporter": "python",
   "pygments_lexer": "ipython3",
   "version": "3.10.13"
  }
 },
 "nbformat": 4,
 "nbformat_minor": 5
}
