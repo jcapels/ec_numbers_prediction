{
 "cells": [
  {
   "cell_type": "markdown",
   "source": [
    "# Make predictions for all models"
   ],
   "metadata": {
    "collapsed": false
   },
   "id": "f240e06de5e600ad"
  },
  {
   "cell_type": "code",
   "outputs": [],
   "source": [
    "# define the directory where the data is\n",
    "data_path = \"/home/joao/Desktop/required_data_ec_number_paper/\""
   ],
   "metadata": {
    "collapsed": false
   },
   "id": "a7e58e7f948df0e4"
  },
  {
   "cell_type": "markdown",
   "source": [
    "It is worth noting that we renamed the name of the folders containing the features just to make it easier to load them. We took it directly from the pipelines generated before. "
   ],
   "metadata": {
    "collapsed": false
   },
   "id": "6611aaeefc66bac"
  },
  {
   "cell_type": "code",
   "outputs": [],
   "source": [
    "from plants_sm.data_structures.dataset import SingleInputDataset\n",
    "from plants_sm.models.pytorch_model import PyTorchModel\n",
    "\n",
    "\n",
    "models = [(\"DeepEC\", \"one_hot_encoding\", f\"{data_path}/models/DeepEC_merged_merged\"), \n",
    "          (\"DSPACE\", \"one_hot_encoding\", f\"{data_path}/models/DSPACE_merged_merged\"),\n",
    "          (\"esm2_3b\", \"\", f\"{data_path}/models/DNN_esm2_t36_3B_UR50D_trial_2_merged\"), \n",
    "          (\"prot_bert\", \"\", f\"{data_path}/models/DNN_prot_bert_vectors_trial_2_merged\"), \n",
    "          (\"esm1b\", \"\", f\"{data_path}/models/DNN_esm1b_t33_650M_UR50S_trial_4_merged\"), \n",
    "         ]\n",
    "\n",
    "\n",
    "test_dataset = SingleInputDataset.from_csv(f\"{data_path}/data/test.csv\",\n",
    "                                            instances_ids_field=\"accession\", representation_field=\"sequence\",\n",
    "                                            labels_field=slice(8, 2779))\n",
    "\n",
    "\n",
    "for model_name, encoding, path in models:\n",
    "\n",
    "    model = PyTorchModel.load(path)\n",
    "    if encoding == \"one_hot_encoding\":\n",
    "        test_dataset.load_features(f\"{data_path}/features/test_one_hot/\")\n",
    "    else:\n",
    "        test_dataset.load_features(f\"{data_path}/features/test_{model_name}/\")\n",
    "    predictions = model.predict(test_dataset)\n",
    "    # save predictions\n",
    "    import pickle\n",
    "    \n",
    "    with open(f\"{data_path}/predictions/predictions_{model_name}.pkl\", \"wb\") as f:\n",
    "        pickle.dump(predictions, f)"
   ],
   "metadata": {
    "collapsed": false
   },
   "id": "6a1e884a7777892f"
  }
 ],
 "metadata": {
  "kernelspec": {
   "display_name": "Python 3",
   "language": "python",
   "name": "python3"
  },
  "language_info": {
   "codemirror_mode": {
    "name": "ipython",
    "version": 2
   },
   "file_extension": ".py",
   "mimetype": "text/x-python",
   "name": "python",
   "nbconvert_exporter": "python",
   "pygments_lexer": "ipython2",
   "version": "2.7.6"
  }
 },
 "nbformat": 4,
 "nbformat_minor": 5
}
