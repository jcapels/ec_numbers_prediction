{
 "cells": [
  {
   "cell_type": "markdown",
   "metadata": {
    "collapsed": false
   },
   "source": [
    "# Consistency Results - HCE (Hierarchical Consistency Error)"
   ]
  },
  {
   "cell_type": "code",
   "execution_count": 23,
   "metadata": {
    "collapsed": false
   },
   "outputs": [],
   "source": [
    "# define the directory where the data is\n",
    "data_path = \"/home/jcapela/ec_numbers_prediction/required_data_ec_number_paper\""
   ]
  },
  {
   "cell_type": "code",
   "execution_count": 24,
   "metadata": {
    "collapsed": false
   },
   "outputs": [],
   "source": [
    "import pandas as pd\n",
    "\n",
    "test = pd.read_csv(f\"{data_path}/data/test.csv\", nrows=2)"
   ]
  },
  {
   "cell_type": "markdown",
   "metadata": {
    "collapsed": false
   },
   "source": [
    "## Load all predictions pickle file"
   ]
  },
  {
   "cell_type": "code",
   "execution_count": 25,
   "metadata": {},
   "outputs": [],
   "source": [
    "labels = test.columns[8:].values"
   ]
  },
  {
   "cell_type": "code",
   "execution_count": 26,
   "metadata": {},
   "outputs": [],
   "source": [
    "# read predictions from pickle file\n",
    "import pickle\n",
    "\n",
    "with open(f\"{data_path}/predictions/predictions_esm2_3b.pkl\", \"rb\") as f:\n",
    "    predictions_esm2_3b = pickle.load(f)"
   ]
  },
  {
   "cell_type": "code",
   "execution_count": 27,
   "metadata": {},
   "outputs": [],
   "source": [
    "# read predictions from pickle file\n",
    "import pickle\n",
    "\n",
    "with open(f\"{data_path}/predictions/predictions_esm1b.pkl\", \"rb\") as f:\n",
    "    predictions_esm1b = pickle.load(f)"
   ]
  },
  {
   "cell_type": "code",
   "execution_count": 28,
   "metadata": {},
   "outputs": [],
   "source": [
    "# read predictions from pickle file\n",
    "import pickle\n",
    "\n",
    "with open(f\"{data_path}/predictions/predictions_DeepEC.pkl\", \"rb\") as f:\n",
    "    predictions_deep_ec = pickle.load(f)"
   ]
  },
  {
   "cell_type": "code",
   "execution_count": 29,
   "metadata": {},
   "outputs": [],
   "source": [
    "# read predictions from pickle file\n",
    "import pickle\n",
    "\n",
    "with open(f\"{data_path}/predictions/predictions_DSPACE.pkl\", \"rb\") as f:\n",
    "    predictions_dspace = pickle.load(f)"
   ]
  },
  {
   "cell_type": "code",
   "execution_count": 30,
   "metadata": {},
   "outputs": [],
   "source": [
    "# read predictions from pickle file\n",
    "import pickle\n",
    "\n",
    "with open(f\"{data_path}/predictions/predictions_prot_bert.pkl\", \"rb\") as f:\n",
    "    predictions_prot_bert = pickle.load(f)"
   ]
  },
  {
   "cell_type": "markdown",
   "metadata": {
    "collapsed": false
   },
   "source": [
    "## Define the functions to calculate the consistency"
   ]
  },
  {
   "cell_type": "code",
   "execution_count": 31,
   "metadata": {},
   "outputs": [],
   "source": [
    "import re\n",
    "\n",
    "\n",
    "def is_hierarchical_consistent_with_multiple_types(prediction):\n",
    "    \"\"\"\n",
    "    Check if the prediction is hierarchically consistent, allowing for multiple hierarchies.\n",
    "    Each label should be a valid extension of any of the preceding labels.\n",
    "    \"\"\"\n",
    "    if len(prediction) > 0:\n",
    "        for i in range(0, len(prediction)):\n",
    "            # Check if the current label starts with any of the preceding labels\n",
    "            if not re.match(r\"^\\d+$\", prediction[i]):\n",
    "                is_consistent = any(prediction[i].startswith(pred) for pred in prediction[:i])\n",
    "                if not is_consistent:\n",
    "                    return False\n",
    "        return True\n",
    "    else:\n",
    "        return True"
   ]
  },
  {
   "cell_type": "markdown",
   "metadata": {
    "collapsed": false
   },
   "source": [
    "## Calculate the consistency results"
   ]
  },
  {
   "cell_type": "code",
   "execution_count": 32,
   "metadata": {},
   "outputs": [],
   "source": [
    "import numpy as np\n",
    "\n",
    "def get_consistency_results(predictions):\n",
    "\n",
    "    list_of_labels = []\n",
    "    for i in range(predictions.shape[0]):\n",
    "        predictions_ = np.where(predictions[i] == 1)[0]\n",
    "        predictions_ = labels[predictions_]\n",
    "        list_of_labels.append(list(predictions_))\n",
    "    consistency_results_updated = [is_hierarchical_consistent_with_multiple_types(prediction) for prediction in list_of_labels]\n",
    "    # count true values\n",
    "    import collections\n",
    "\n",
    "    counter = collections.Counter(consistency_results_updated)\n",
    "    return counter[False] / (counter[False] + counter[True])"
   ]
  },
  {
   "cell_type": "code",
   "execution_count": 33,
   "metadata": {},
   "outputs": [
    {
     "data": {
      "text/plain": [
       "0.008125347378450627"
      ]
     },
     "execution_count": 33,
     "metadata": {},
     "output_type": "execute_result"
    }
   ],
   "source": [
    "get_consistency_results(predictions_esm2_3b)"
   ]
  },
  {
   "cell_type": "code",
   "execution_count": 34,
   "metadata": {},
   "outputs": [
    {
     "data": {
      "text/plain": [
       "0.006590265463303602"
      ]
     },
     "execution_count": 34,
     "metadata": {},
     "output_type": "execute_result"
    }
   ],
   "source": [
    "get_consistency_results(predictions_esm1b)"
   ]
  },
  {
   "cell_type": "code",
   "execution_count": 35,
   "metadata": {},
   "outputs": [
    {
     "data": {
      "text/plain": [
       "0.01415980732075272"
      ]
     },
     "execution_count": 35,
     "metadata": {},
     "output_type": "execute_result"
    }
   ],
   "source": [
    "get_consistency_results(predictions_prot_bert)"
   ]
  },
  {
   "cell_type": "code",
   "execution_count": 36,
   "metadata": {},
   "outputs": [
    {
     "data": {
      "text/plain": [
       "0.07809067570071196"
      ]
     },
     "execution_count": 36,
     "metadata": {},
     "output_type": "execute_result"
    }
   ],
   "source": [
    "get_consistency_results(predictions_deep_ec)"
   ]
  },
  {
   "cell_type": "code",
   "execution_count": 37,
   "metadata": {},
   "outputs": [
    {
     "data": {
      "text/plain": [
       "0.04124870973718339"
      ]
     },
     "execution_count": 37,
     "metadata": {},
     "output_type": "execute_result"
    }
   ],
   "source": [
    "get_consistency_results(predictions_dspace)"
   ]
  },
  {
   "cell_type": "code",
   "execution_count": 38,
   "metadata": {},
   "outputs": [],
   "source": [
    "predictions_all = (\"DNN ESM2 3B\", predictions_esm2_3b), (\"DNN ESM1b\", predictions_esm1b), (\"DNN ProtBERT\", predictions_prot_bert), (\"DeepEC CNN3\", predictions_deep_ec), (\"D-SPACE EC\", predictions_dspace)"
   ]
  },
  {
   "cell_type": "code",
   "execution_count": 39,
   "metadata": {},
   "outputs": [],
   "source": [
    "color_map = {'DNN ESM2 35M': (0.00392156862745098,\n",
    "  0.45098039215686275,\n",
    "  0.6980392156862745),\n",
    " 'DNN ESM2 150M': (0.8705882352941177, 0.5607843137254902, 0.0196078431372549),\n",
    " 'DNN ESM2 8M': (0.00784313725490196, 0.6196078431372549, 0.45098039215686275),\n",
    " 'DNN ProtBERT': (0.8352941176470589, 0.3686274509803922, 0.0),\n",
    " 'DNN ESM2 3B': (0.8, 0.47058823529411764, 0.7372549019607844),\n",
    " 'DNN ESM2 650M': (0.792156862745098, 0.5686274509803921, 0.3803921568627451),\n",
    " 'DNN ESM1b': (0.984313725490196, 0.6862745098039216, 0.8941176470588236),\n",
    " 'DeepEC CNN3': (0.5803921568627451, 0.5803921568627451, 0.5803921568627451),\n",
    " 'D-SPACE EC': (0.9254901960784314, 0.8823529411764706, 0.2),\n",
    " 'Models + BLASTp ensemble': (0.00392156862745098,\n",
    "  0.45098039215686275,\n",
    "  0.6980392156862745),\n",
    " 'Models ensemble': (0.8705882352941177, 0.5607843137254902, 0.0196078431372549),\n",
    "    'BLASTp': (0.00784313725490196, 0.6196078431372549, 0.45098039215686275),}\n",
    "\n",
    "consitency_results_all = [get_consistency_results(predictions)*100 for _, predictions in predictions_all]\n",
    "names_results_all = [name for name, _ in predictions_all]\n",
    "colors = [color_map[name] for name in names_results_all]"
   ]
  },
  {
   "cell_type": "code",
   "execution_count": 48,
   "metadata": {},
   "outputs": [
    {
     "data": {
      "text/plain": [
       "<Figure size 1170x827 with 0 Axes>"
      ]
     },
     "metadata": {},
     "output_type": "display_data"
    },
    {
     "data": {
      "image/png": "[encoded data removed]",
      "text/plain": [
       "<Figure size 1170x827 with 2 Axes>"
      ]
     },
     "metadata": {},
     "output_type": "display_data"
    }
   ],
   "source": [
    "\n",
    "\n",
    "import matplotlib.pyplot as plt\n",
    "import numpy as np\n",
    "import matplotlib\n",
    "\n",
    "\n",
    "matplotlib.rcParams['savefig.transparent'] = True\n",
    "\n",
    "# Create figure and subplots\n",
    "plt.figure(figsize=(11.7, 8.27))\n",
    "fig, (ax, ax2) = plt.subplots(2, 1, sharex=True, figsize=(11.7, 8.27), gridspec_kw={'height_ratios': [1, 3]})\n",
    "\n",
    "# Plot the same data on both axes\n",
    "ax.bar(names_results_all, consitency_results_all, color=colors)\n",
    "\n",
    "plt.suptitle('Hierarchical Consistency Error (HCE)', fontsize=35)\n",
    "\n",
    "ax2.bar(names_results_all, consitency_results_all, color=colors)\n",
    "\n",
    "# Zoom-in / limit the view to different portions of the data\n",
    "ax.set_ylim(12, 100)  # upper part\n",
    "ax2.set_ylim(0, 9)    # lower part\n",
    "\n",
    "\n",
    "# Hide the spines between ax and ax2\n",
    "ax.spines['bottom'].set_visible(False)\n",
    "ax2.spines['top'].set_visible(False)\n",
    "ax.xaxis.tick_top()\n",
    "ax.tick_params(labeltop=False)  # don't put tick labels at the top\n",
    "ax.yaxis.set_tick_params(labelsize=35)\n",
    "#ax2.xaxis.tick_bottom()\n",
    "ax2.tick_params(labelbottom=False)\n",
    "#ax2.xaxis.set_tick_params(labelsize=35, rotation=90)\n",
    "ax2.yaxis.set_tick_params(labelsize=35)\n",
    "\n",
    "# Add diagonal lines to indicate the break in the y-axis\n",
    "d = .015  # how big to make the diagonal lines in axes coordinates\n",
    "kwargs = dict(transform=ax.transAxes, color='k', clip_on=False)\n",
    "ax.plot((-d, +d), (-d, +d), **kwargs)        # top-left diagonal\n",
    "ax.plot((1 - d, 1 + d), (-d, +d), **kwargs)  # top-right diagonal\n",
    "\n",
    "kwargs.update(transform=ax2.transAxes)  # switch to the bottom axes\n",
    "ax2.plot((-d, +d), (1 - d, 1 + d), **kwargs)  # bottom-left diagonal\n",
    "ax2.plot((1 - d, 1 + d), (1 - d, 1 + d), **kwargs)  # bottom-right diagonal\n",
    "\n",
    "# Adding the error percentage values on top of each bar in the lower plot\n",
    "for i, percentage in enumerate(consitency_results_all):\n",
    "    ax2.text(i, percentage, f'{percentage:.1f}%', ha='center', va='bottom', fontsize=35)\n",
    "\n",
    "#plt.xlabel('Model', labelpad=20, fontsize=35)\n",
    "plt.ylabel('HCE', labelpad=20, fontsize=35)\n",
    "plt.savefig('consistency_results.png', dpi=400, bbox_inches='tight')"
   ]
  }
 ],
 "metadata": {
  "kernelspec": {
   "display_name": "Python 3",
   "language": "python",
   "name": "python3"
  },
  "language_info": {
   "codemirror_mode": {
    "name": "ipython",
    "version": 3
   },
   "file_extension": ".py",
   "mimetype": "text/x-python",
   "name": "python",
   "nbconvert_exporter": "python",
   "pygments_lexer": "ipython3",
   "version": "3.10.13"
  }
 },
 "nbformat": 4,
 "nbformat_minor": 2
}
