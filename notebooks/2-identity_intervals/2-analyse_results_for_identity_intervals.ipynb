{
 "cells": [
  {
   "cell_type": "markdown",
   "source": [
    "# Get mF1 scores for each of the identity intervals  "
   ],
   "metadata": {
    "collapsed": false
   },
   "id": "16cfc91184b36fc1"
  },
  {
   "cell_type": "code",
   "outputs": [],
   "source": [
    "# define the directory where the data is\n",
    "data_path = \"/home/joao/Desktop/required_data_ec_number_paper/\""
   ],
   "metadata": {
    "collapsed": false
   },
   "id": "eadfa782bf13973f"
  },
  {
   "cell_type": "code",
   "outputs": [],
   "source": [
    "import pandas as pd\n",
    "\n",
    "not_in_predictions = pd.read_csv(f\"{data_path}/not_in_predictions.csv\")\n",
    "predictions = pd.read_csv(f\"{data_path}/predictions_no_duplicates_ident_evalue.csv\")\n",
    "test_dataset_pandas = pd.read_csv(f\"{data_path}/data/test.csv\")"
   ],
   "metadata": {
    "collapsed": false
   },
   "id": "7e2ae130e95b1f8d"
  },
  {
   "cell_type": "code",
   "outputs": [],
   "source": [
    "blast_results = pd.read_csv(f\"{data_path}/test_blast_predictions_right_format.csv\")\n",
    "blast_results_true_values = pd.read_csv(f\"{data_path}/test_right_format.csv\")"
   ],
   "metadata": {
    "collapsed": false
   },
   "id": "d09dc13f60e8b38c"
  },
  {
   "cell_type": "markdown",
   "source": [
    "## Function to get the predictions for the enzymes below a specific identity threshold"
   ],
   "metadata": {
    "collapsed": false
   },
   "id": "6757e3da44a017b1"
  },
  {
   "cell_type": "code",
   "outputs": [],
   "source": [
    "from plants_sm.data_structures.dataset.single_input_dataset import SingleInputDataset\n",
    "from plants_sm.models.pytorch_model import PyTorchModel\n",
    "from sklearn.metrics import f1_score\n",
    "\n",
    "def get_less_studied_predictions(model, model_path, evalue_threshold=1e-5, identity_threshold1=None, identity_threshold2=None, return_blast_results=True):\n",
    "    \n",
    "    if identity_threshold1 is None:\n",
    "        high_evalue_predictions = predictions[predictions[\"evalue\"]>evalue_threshold].qseqid.tolist()\n",
    "        high_evalue_predictions.extend(not_in_predictions.qseqid.tolist())\n",
    "        print(len(high_evalue_predictions))\n",
    "    elif identity_threshold2 is None:\n",
    "        high_evalue_predictions = predictions[predictions[\"pident\"]<identity_threshold1].qseqid.tolist()\n",
    "        high_evalue_predictions.extend(not_in_predictions.qseqid.tolist())\n",
    "        print(len(high_evalue_predictions))\n",
    "    else:\n",
    "        high_evalue_predictions = predictions[(predictions[\"pident\"]<=identity_threshold1) & (predictions[\"pident\"]>identity_threshold2)].qseqid.tolist()\n",
    "        high_evalue_predictions.extend(not_in_predictions.qseqid.tolist())\n",
    "        print(len(high_evalue_predictions))\n",
    "    \n",
    "    test_dataset_pandas_filtered = test_dataset_pandas[test_dataset_pandas[\"accession\"].isin(high_evalue_predictions)]\n",
    "    test_dataset_no_similarity = SingleInputDataset(test_dataset_pandas_filtered,\n",
    "                                            instances_ids_field=\"accession\", representation_field=\"sequence\",\n",
    "                                            labels_field=slice(8, 2779))\n",
    "    test_dataset_no_similarity.load_features(f'/scratch/jribeiro/results/{model}/test/')\n",
    "\n",
    "    blast_results_no_similarity = blast_results[blast_results[\"qseqid\"].isin(high_evalue_predictions)]\n",
    "    blast_results_true_values_no_similarity = blast_results_true_values[blast_results_true_values[\"accession\"].isin(high_evalue_predictions)]\n",
    "\n",
    "    predictions_blast = blast_results_no_similarity.iloc[:, 6:]\n",
    "    true_values = blast_results_true_values_no_similarity.iloc[:, 8:]\n",
    "\n",
    "    def get_labels_to_remove(dataset):\n",
    "        labels_with_no_positive_sample = []\n",
    "        for i in range(dataset.shape[1]):\n",
    "            if dataset[:, i].sum() == 0:\n",
    "                labels_with_no_positive_sample.append(i)\n",
    "        return labels_with_no_positive_sample\n",
    "\n",
    "    labels_to_remove = get_labels_to_remove(np.array(true_values))\n",
    "\n",
    "    predictions_blast = np.delete(np.array(predictions_blast), labels_to_remove, axis=1)\n",
    "    true_values = np.delete(np.array(true_values), labels_to_remove, axis=1)\n",
    "\n",
    "    results = {}\n",
    "    \n",
    "    if return_blast_results:\n",
    "        print(\"BLAST\")\n",
    "        blast_wf1 = f1_score(true_values, predictions_blast, average=\"weighted\")\n",
    "        blast_mf1 = f1_score(true_values, predictions_blast, average=\"macro\")\n",
    "        print(blast_mf1)\n",
    "        print(blast_wf1)\n",
    "\n",
    "    else:\n",
    "        blast_mf1 = None\n",
    "        blast_wf1 = None\n",
    "\n",
    "    model = PyTorchModel.load(model_path)\n",
    "    predictions_esm2_3b_no_similarity = model.predict(test_dataset_no_similarity)\n",
    "    # drop columns with only zeros\n",
    "    \n",
    "    labels_to_remove = get_labels_to_remove(test_dataset_no_similarity.y)\n",
    "\n",
    "    predictions_esm2_3b_no_similarity_ = np.delete(predictions_esm2_3b_no_similarity, labels_to_remove, axis=1)\n",
    "    y_true = np.delete(test_dataset_no_similarity.y, labels_to_remove, axis=1)\n",
    "    print(\"Model\")\n",
    "    mf1 = f1_score(y_true, predictions_esm2_3b_no_similarity_, average=\"macro\")\n",
    "    print(mf1)\n",
    "    wf1 = f1_score(y_true, predictions_esm2_3b_no_similarity_, average=\"weighted\")\n",
    "    print(wf1)\n",
    "    return mf1, wf1, len(high_evalue_predictions), blast_mf1, blast_wf1\n",
    "    "
   ],
   "metadata": {
    "collapsed": false
   },
   "id": "3017b345aae0df4f"
  },
  {
   "cell_type": "markdown",
   "source": [
    "## Get the results for each of the identity intervals for ESM and ProtBERT models"
   ],
   "metadata": {
    "collapsed": false
   },
   "id": "e37cd450407ea305"
  },
  {
   "cell_type": "code",
   "outputs": [],
   "source": [
    "model = \"esm2_t36_3B_UR50D\"\n",
    "model_path = f\"{data_path}/models/DNN_esm2_t36_3B_UR50D_trial_2_merged\"\n",
    "\n",
    "\n",
    "models = [(\"esm2_t36_3B_UR50D\", f\"{data_path}/models/DNN_esm2_t36_3B_UR50D_trial_2_merged\"), \n",
    "          (\"prot_bert_vectors\", f\"{data_path}/models/DNN_prot_bert_vectors_trial_2_merged\"), \n",
    "          (\"esm1b_t33_650M_UR50S\", f\"{data_path}/models/DNN_esm1b_t33_650M_UR50S_trial_4_merged\"), \n",
    "          (\"esm2_t33_650M_UR50D\", f\"{data_path}/models/DNN_esm2_t33_650M_UR50D_trial_4_merged\")]\n",
    "\n",
    "results = {}\n",
    "thresholds = [0, 15, 25, 35, 45, 55, 65, 75, 85, 90, 100]\n",
    "#thresholds = [90, 100]\n",
    "\n",
    "\n",
    "for model, model_path in models:\n",
    "    for i in range(1, len(thresholds)):\n",
    "\n",
    "        identity_threshold1 = thresholds[i]\n",
    "        identity_threshold2 = thresholds[i-1]\n",
    "        print(f\"identity {identity_threshold1}\")\n",
    "        mf1, wf1, samples_num, _, _ = get_less_studied_predictions(model, model_path,\n",
    "                                    identity_threshold1=identity_threshold1,\n",
    "                                    identity_threshold2=identity_threshold2, return_blast_results=False)\n",
    "        \n",
    "        if \"method\" not in results:\n",
    "            results[\"method\"] = [model]\n",
    "        else:\n",
    "            results[\"method\"].append(model)\n",
    "        \n",
    "        if \"identity_threshold\" not in results:\n",
    "            results[\"identity_threshold\"] = [identity_threshold1]\n",
    "        else:\n",
    "            results[\"identity_threshold\"].append(identity_threshold1)\n",
    "\n",
    "        if \"macro_f1\" not in results:\n",
    "            results[\"macro_f1\"] = [mf1]\n",
    "        else:\n",
    "            results[\"macro_f1\"].append(mf1)\n",
    "\n",
    "        if \"weighted_f1\" not in results:\n",
    "            results[\"weighted_f1\"] = [wf1]\n",
    "\n",
    "        else:\n",
    "            results[\"weighted_f1\"].append(wf1)\n",
    "\n",
    "        if \"samples_num\" not in results:\n",
    "            results[\"samples_num\"] = [samples_num]\n",
    "        else:\n",
    "            results[\"samples_num\"].append(samples_num)\n",
    "\n",
    "pd.DataFrame(results).to_csv(\"less_studied_results.csv\", index=False)"
   ],
   "metadata": {
    "collapsed": false
   },
   "id": "64a70fd0256adb86"
  },
  {
   "cell_type": "markdown",
   "source": [
    "## Get the results for each of the identity intervals for DeepEC and DSPACE models"
   ],
   "metadata": {
    "collapsed": false
   },
   "id": "f4061a8e3e3fcc1a"
  },
  {
   "cell_type": "code",
   "outputs": [],
   "source": [
    "model = \"esm2_t36_3B_UR50D\"\n",
    "model_path = f\"{data_path}/models/DNN_esm2_t36_3B_UR50D_trial_2_merged\"\n",
    "\n",
    "\n",
    "models = [(\"DeepEC\", \"one_hot_encoding\", f\"{data_path}/models/DeepEC_merged_merged\"), \n",
    "          (\"DSPACE\", \"one_hot_encoding\", f\"{data_path}/models/DSPACE_merged_merged\") \n",
    "         ]\n",
    "\n",
    "thresholds = [0, 15, 25, 35, 45, 55, 65, 75, 85, 90, 100]\n",
    "#thresholds = [90, 100]\n",
    "\n",
    "def f1_score_macro():\n",
    "    pass\n",
    "\n",
    "results = {}\n",
    "for model_name,model, model_path in models:\n",
    "    for i in range(1, len(thresholds)):\n",
    "\n",
    "        identity_threshold1 = thresholds[i]\n",
    "        identity_threshold2 = thresholds[i-1]\n",
    "        print(f\"identity {identity_threshold1}\")\n",
    "        mf1, wf1, samples_num, _, _ = get_less_studied_predictions(model, model_path,\n",
    "                                    identity_threshold1=identity_threshold1,\n",
    "                                    identity_threshold2=identity_threshold2, return_blast_results=False)\n",
    "        \n",
    "        if \"method\" not in results:\n",
    "            results[\"method\"] = [model_name]\n",
    "        else:\n",
    "            results[\"method\"].append(model_name)\n",
    "        \n",
    "        if \"identity_threshold\" not in results:\n",
    "            results[\"identity_threshold\"] = [identity_threshold1]\n",
    "        else:\n",
    "            results[\"identity_threshold\"].append(identity_threshold1)\n",
    "\n",
    "        if \"macro_f1\" not in results:\n",
    "            results[\"macro_f1\"] = [mf1]\n",
    "        else:\n",
    "            results[\"macro_f1\"].append(mf1)\n",
    "\n",
    "        if \"weighted_f1\" not in results:\n",
    "            results[\"weighted_f1\"] = [wf1]\n",
    "\n",
    "        else:\n",
    "            results[\"weighted_f1\"].append(wf1)\n",
    "\n",
    "        if \"samples_num\" not in results:\n",
    "            results[\"samples_num\"] = [samples_num]\n",
    "        else:\n",
    "            results[\"samples_num\"].append(samples_num)\n",
    "            \n",
    "pd.read_csv(\"less_studied_results.csv\").append(pd.DataFrame(results)).to_csv(\"less_studied_results.csv\", index=False)"
   ],
   "metadata": {
    "collapsed": false
   },
   "id": "78bd71ee57ef670a"
  },
  {
   "cell_type": "markdown",
   "source": [
    "## Get the results for each of the identity intervals for BLASTp"
   ],
   "metadata": {
    "collapsed": false
   },
   "id": "6fb5867a49004594"
  },
  {
   "cell_type": "code",
   "outputs": [],
   "source": [
    "model = \"esm2_t36_3B_UR50D\"\n",
    "model_path = f\"{data_path}/models/DNN_esm2_t36_3B_UR50D_trial_2_merged\"\n",
    "\n",
    "less_studied_enzymes = pd.read_csv(\"less_studied_results.csv\")\n",
    "\n",
    "results = {}\n",
    "thresholds = [0, 15, 25, 35, 45, 55, 65, 75, 85, 90, 100]\n",
    "for i in range(1, len(thresholds)):\n",
    "    identity_threshold1 = thresholds[i]\n",
    "    identity_threshold2 = thresholds[i-1]\n",
    "    mf1, wf1, samples_num, blast_mf1_score, blast_wf1_score = get_less_studied_predictions(model, model_path,\n",
    "                                        identity_threshold1=identity_threshold1,\n",
    "                                        identity_threshold2=identity_threshold2, return_blast_results=True)\n",
    "    if \"method\" not in results:\n",
    "        results[\"method\"] = [\"BLASTp\"]\n",
    "    else:\n",
    "        results[\"method\"].append(\"BLASTp\")\n",
    "\n",
    "    if \"identity_threshold\" not in results:\n",
    "        results[\"identity_threshold\"] = [identity_threshold1]\n",
    "    else:\n",
    "        results[\"identity_threshold\"].append(identity_threshold1)\n",
    "\n",
    "    if \"macro_f1\" not in results:\n",
    "        results[\"macro_f1\"] = [blast_mf1_score]\n",
    "    else:\n",
    "        results[\"macro_f1\"].append(blast_mf1_score)\n",
    "    \n",
    "    if \"weighted_f1\" not in results:\n",
    "        results[\"weighted_f1\"] = [blast_wf1_score]\n",
    "    else:\n",
    "        results[\"weighted_f1\"].append(blast_wf1_score)\n",
    "    \n",
    "    if \"samples_num\" not in results:\n",
    "        results[\"samples_num\"] = [samples_num]\n",
    "    else:\n",
    "        results[\"samples_num\"].append(samples_num)\n"
   ],
   "metadata": {
    "collapsed": false
   },
   "id": "554924f2cf355abe"
  },
  {
   "cell_type": "markdown",
   "source": [
    "## Get the results for each of the identity intervals for the ensemble of models and BLASTp"
   ],
   "metadata": {
    "collapsed": false
   },
   "id": "4c21960af7e7aa45"
  },
  {
   "cell_type": "markdown",
   "source": [
    "### Note that the predictions were already saved in a pickle file"
   ],
   "metadata": {
    "collapsed": false
   },
   "id": "581af0736d2c43d0"
  },
  {
   "cell_type": "code",
   "outputs": [],
   "source": [
    "import pickle\n",
    "\n",
    "with open(f\"{data_path}/predictions/predictions_models_voting.pkl\", \"rb\") as f:\n",
    "    voting_predictions = pickle.load(f)\n",
    "\n",
    "# read predictions from pickle file\n",
    "import pickle\n",
    "\n",
    "with open(f\"{data_path}/predictions/predictions_models_voting_blast.pkl\", \"rb\") as f:\n",
    "    voting_predictions_blast = pickle.load(f)"
   ],
   "metadata": {
    "collapsed": false
   },
   "id": "270d57c6a89f8b36"
  },
  {
   "cell_type": "code",
   "outputs": [],
   "source": [
    "results = {}\n",
    "thresholds = [0, 15, 25, 35, 45, 55, 65, 75, 85, 90, 100]\n",
    "#thresholds = [90, 100]\n",
    "\n",
    "for method in [\"Models + BLASTp ensemble\", \"Models ensemble\"]:\n",
    "    for i in range(1, len(thresholds)):\n",
    "\n",
    "        if method == \"Models ensemble\":\n",
    "            voting_predictions_ = voting_predictions\n",
    "        else:\n",
    "            voting_predictions_ = voting_predictions_blast\n",
    "\n",
    "        identity_threshold1 = thresholds[i]\n",
    "        identity_threshold2 = thresholds[i-1]\n",
    "        print(f\"identity {identity_threshold1}\")\n",
    "        mf1, samples_num = get_less_studied_predictions(voting_predictions_,\n",
    "                                    identity_threshold1=identity_threshold1,\n",
    "                                    identity_threshold2=identity_threshold2)\n",
    "\n",
    "        if \"method\" not in results:\n",
    "            results[\"method\"] = [method]\n",
    "        else:\n",
    "            results[\"method\"].append(method)\n",
    "        \n",
    "        if \"identity_threshold\" not in results:\n",
    "            results[\"identity_threshold\"] = [identity_threshold1]\n",
    "        else:\n",
    "            results[\"identity_threshold\"].append(identity_threshold1)\n",
    "\n",
    "        if \"macro_f1\" not in results:\n",
    "            results[\"macro_f1\"] = [mf1]\n",
    "        else:\n",
    "            results[\"macro_f1\"].append(mf1)\n",
    "\n",
    "        if \"samples_num\" not in results:\n",
    "            results[\"samples_num\"] = [samples_num]\n",
    "        else:\n",
    "            results[\"samples_num\"].append(samples_num)\n",
    "            \n",
    "pd.read_csv(\"less_studied_results.csv\").append(pd.DataFrame(results)).to_csv(\"less_studied_results.csv\", index=False)"
   ],
   "metadata": {
    "collapsed": false
   },
   "id": "2a3e2dce867419e0"
  },
  {
   "cell_type": "markdown",
   "source": [
    "## Save them to the csv file"
   ],
   "metadata": {
    "collapsed": false
   },
   "id": "b5c9a13c5d9cbcf"
  },
  {
   "cell_type": "code",
   "outputs": [],
   "source": [
    "less_studied_enzymes.append(pd.DataFrame(results)).to_csv(\"less_studied_results.csv\", index=False)"
   ],
   "metadata": {
    "collapsed": false
   },
   "id": "a970c02562c49f0b"
  },
  {
   "cell_type": "markdown",
   "source": [
    "## Plot the results"
   ],
   "metadata": {
    "collapsed": false
   },
   "id": "e3d66fb0e0562538"
  },
  {
   "cell_type": "markdown",
   "source": [
    "Note that the name of the models were changed in the dataset directly to make the plot more readable."
   ],
   "metadata": {
    "collapsed": false
   },
   "id": "919152991934b896"
  },
  {
   "cell_type": "code",
   "outputs": [],
   "source": [
    "color_map = {'DNN ESM2 35M': (0.00392156862745098,\n",
    "  0.45098039215686275,\n",
    "  0.6980392156862745),\n",
    " 'DNN ESM2 150M': (0.8705882352941177, 0.5607843137254902, 0.0196078431372549),\n",
    " 'DNN ESM2 8M': (0.00784313725490196, 0.6196078431372549, 0.45098039215686275),\n",
    " 'DNN ProtBERT': (0.8352941176470589, 0.3686274509803922, 0.0),\n",
    " 'DNN ESM2 3B': (0.8, 0.47058823529411764, 0.7372549019607844),\n",
    " 'DNN ESM2 650M': (0.792156862745098, 0.5686274509803921, 0.3803921568627451),\n",
    " 'DNN ESM1b': (0.984313725490196, 0.6862745098039216, 0.8941176470588236),\n",
    " 'DeepEC CNN3': (0.5803921568627451, 0.5803921568627451, 0.5803921568627451),\n",
    " 'DSPACE EC': (0.9254901960784314, 0.8823529411764706, 0.2),\n",
    " 'Models + BLASTp ensemble': (0.00392156862745098,\n",
    "  0.45098039215686275,\n",
    "  0.6980392156862745),\n",
    " 'Models ensemble': (0.8705882352941177, 0.5607843137254902, 0.0196078431372549),\n",
    "    'BLASTp': (0.00784313725490196, 0.6196078431372549, 0.45098039215686275),}"
   ],
   "metadata": {
    "collapsed": false
   },
   "id": "2b1992a1980dbc8b"
  },
  {
   "cell_type": "code",
   "outputs": [],
   "source": [
    "import pandas as pd\n",
    "import numpy as np\n",
    "\n",
    "less_studied_enzymes = pd.read_csv(\"less_studied_results.csv\")\n",
    "\n",
    "# generate line plot for f1 score\n",
    "import seaborn as sns\n",
    "import matplotlib.pyplot as plt\n",
    "import matplotlib\n",
    "\n",
    "matplotlib.rcParams['savefig.transparent'] = True\n",
    "\n",
    "# Set Seaborn style\n",
    "sns.set(style=\"whitegrid\")\n",
    "sns.set(rc={'figure.figsize':(11.7,8.27)})\n",
    "\n",
    "# Plotting with Seaborn\n",
    "plt.figure(figsize=(11.7, 8.27))\n",
    "sns.lineplot(x='identity_threshold', y='macro_f1', hue='method', marker='o',  markers=True, markersize=5, data=less_studied_enzymes, palette=color_map)\n",
    "\n",
    "# plt.title('mF1 per Identity Intervals')\n",
    "plt.xlabel('Identity Intervals from BLASTp alignment', labelpad=20, fontsize=23)\n",
    "plt.ylabel('mF1', labelpad=20, fontsize=23)\n",
    "plt.legend(title='Method')\n",
    "plt.ylim(0, 1, 0.1)\n",
    "thresholds = [0, 15, 25, 35, 45, 55, 65, 75, 85, 90, 100]\n",
    "labels = []\n",
    "for i in range(1, len(thresholds)):\n",
    "    labels.append(f\"]{thresholds[i-1]}, {thresholds[i]}]\")\n",
    "\n",
    "# Add grid lines\n",
    "plt.grid(True, linestyle='--', alpha=0.7)\n",
    "\n",
    "# Adjust tick parameters\n",
    "plt.tick_params(axis='both', which='major', labelsize=20)\n",
    "plt.xticks([15, 25, 35, 45, 55, 65, 75, 85, 90, 100], labels=labels, rotation=90)\n",
    "plt.rcParams['figure.figsize'] = [15, 12]\n",
    "plt.rcParams['figure.dpi'] = 200\n",
    "plt.title(\"mF1 per Identity Intervals from BLASTp alignment\", pad=40, fontsize=23)\n",
    "# plt.show()\n",
    "plt.savefig(\"mF1_per_identity_intervals.png\", bbox_inches='tight', dpi=400)"
   ],
   "metadata": {
    "collapsed": false
   },
   "id": "a2aa56a4957367e8"
  }
 ],
 "metadata": {
  "kernelspec": {
   "display_name": "Python 3",
   "language": "python",
   "name": "python3"
  },
  "language_info": {
   "codemirror_mode": {
    "name": "ipython",
    "version": 2
   },
   "file_extension": ".py",
   "mimetype": "text/x-python",
   "name": "python",
   "nbconvert_exporter": "python",
   "pygments_lexer": "ipython2",
   "version": "2.7.6"
  }
 },
 "nbformat": 4,
 "nbformat_minor": 5
}
