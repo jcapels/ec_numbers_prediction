{
 "cells": [
  {
   "cell_type": "markdown",
   "id": "16cfc91184b36fc1",
   "metadata": {
    "collapsed": false
   },
   "source": [
    "# Get mF1 scores for each of the identity intervals  "
   ]
  },
  {
   "cell_type": "code",
   "execution_count": 1,
   "id": "eadfa782bf13973f",
   "metadata": {
    "collapsed": false
   },
   "outputs": [],
   "source": [
    "# define the directory where the data is\n",
    "data_path = \"/home/jcapela/ec_numbers_prediction/required_data_ec_number_paper\""
   ]
  },
  {
   "cell_type": "code",
   "execution_count": 2,
   "id": "7e2ae130e95b1f8d",
   "metadata": {
    "collapsed": false
   },
   "outputs": [
    {
     "name": "stderr",
     "output_type": "stream",
     "text": [
      "/tmp/ipykernel_1126818/1775222236.py:5: DtypeWarning: Columns (4,5) have mixed types. Specify dtype option on import or set low_memory=False.\n",
      "  test_dataset_pandas = pd.read_csv(f\"{data_path}/data/test.csv\")\n"
     ]
    }
   ],
   "source": [
    "import pandas as pd\n",
    "\n",
    "not_in_predictions = pd.read_csv(f\"{data_path}/not_in_predictions.csv\")\n",
    "predictions = pd.read_csv(f\"{data_path}/predictions_no_duplicates_ident_evalue.csv\")\n",
    "test_dataset_pandas = pd.read_csv(f\"{data_path}/data/test.csv\")"
   ]
  },
  {
   "cell_type": "code",
   "execution_count": 3,
   "id": "d09dc13f60e8b38c",
   "metadata": {
    "collapsed": false
   },
   "outputs": [
    {
     "name": "stderr",
     "output_type": "stream",
     "text": [
      "/tmp/ipykernel_1126818/2845153967.py:1: DtypeWarning: Columns (2,3) have mixed types. Specify dtype option on import or set low_memory=False.\n",
      "  blast_results = pd.read_csv(f\"{data_path}/test_blast_predictions_right_format.csv\")\n",
      "/tmp/ipykernel_1126818/2845153967.py:2: DtypeWarning: Columns (4,5) have mixed types. Specify dtype option on import or set low_memory=False.\n",
      "  blast_results_true_values = pd.read_csv(f\"{data_path}/test_right_format.csv\")\n"
     ]
    }
   ],
   "source": [
    "blast_results = pd.read_csv(f\"{data_path}/test_blast_predictions_right_format.csv\")\n",
    "blast_results_true_values = pd.read_csv(f\"{data_path}/test_right_format.csv\")"
   ]
  },
  {
   "cell_type": "markdown",
   "id": "6757e3da44a017b1",
   "metadata": {
    "collapsed": false
   },
   "source": [
    "## Function to get the predictions for the enzymes below a specific identity threshold"
   ]
  },
  {
   "cell_type": "code",
   "execution_count": 4,
   "id": "3017b345aae0df4f",
   "metadata": {
    "collapsed": false
   },
   "outputs": [
    {
     "name": "stderr",
     "output_type": "stream",
     "text": [
      "2024-03-01 11:13:42.744852: I tensorflow/core/util/port.cc:111] oneDNN custom operations are on. You may see slightly different numerical results due to floating-point round-off errors from different computation orders. To turn them off, set the environment variable `TF_ENABLE_ONEDNN_OPTS=0`.\n",
      "2024-03-01 11:13:42.748937: I tensorflow/tsl/cuda/cudart_stub.cc:28] Could not find cuda drivers on your machine, GPU will not be used.\n",
      "2024-03-01 11:13:42.788196: E tensorflow/compiler/xla/stream_executor/cuda/cuda_dnn.cc:9342] Unable to register cuDNN factory: Attempting to register factory for plugin cuDNN when one has already been registered\n",
      "2024-03-01 11:13:42.788232: E tensorflow/compiler/xla/stream_executor/cuda/cuda_fft.cc:609] Unable to register cuFFT factory: Attempting to register factory for plugin cuFFT when one has already been registered\n",
      "2024-03-01 11:13:42.788273: E tensorflow/compiler/xla/stream_executor/cuda/cuda_blas.cc:1518] Unable to register cuBLAS factory: Attempting to register factory for plugin cuBLAS when one has already been registered\n",
      "2024-03-01 11:13:42.877599: I tensorflow/core/platform/cpu_feature_guard.cc:182] This TensorFlow binary is optimized to use available CPU instructions in performance-critical operations.\n",
      "To enable the following instructions: AVX2 AVX512F AVX512_VNNI FMA, in other operations, rebuild TensorFlow with the appropriate compiler flags.\n",
      "2024-03-01 11:13:45.988784: W tensorflow/compiler/tf2tensorrt/utils/py_utils.cc:38] TF-TRT Warning: Could not find TensorRT\n"
     ]
    }
   ],
   "source": [
    "from plants_sm.data_structures.dataset.single_input_dataset import SingleInputDataset\n",
    "from plants_sm.models.pytorch_model import PyTorchModel\n",
    "from sklearn.metrics import f1_score\n",
    "import numpy as np\n",
    "\n",
    "def get_less_studied_predictions(model, model_path, evalue_threshold=1e-5, identity_threshold1=None, identity_threshold2=None, \n",
    "                                 return_blast_results=True,\n",
    "                                features_path=None):\n",
    "    \n",
    "    if features_path is None:\n",
    "        features_path = f'{data_path}/features/test_{model}/'\n",
    "    \n",
    "    if identity_threshold1 is None:\n",
    "        high_evalue_predictions = predictions[predictions[\"evalue\"]>evalue_threshold].qseqid.tolist()\n",
    "        high_evalue_predictions.extend(not_in_predictions.qseqid.tolist())\n",
    "        print(len(high_evalue_predictions))\n",
    "    elif identity_threshold2 is None:\n",
    "        high_evalue_predictions = predictions[predictions[\"pident\"]<identity_threshold1].qseqid.tolist()\n",
    "        high_evalue_predictions.extend(not_in_predictions.qseqid.tolist())\n",
    "        print(len(high_evalue_predictions))\n",
    "    else:\n",
    "        high_evalue_predictions = predictions[(predictions[\"pident\"]<=identity_threshold1) & (predictions[\"pident\"]>identity_threshold2)].qseqid.tolist()\n",
    "        high_evalue_predictions.extend(not_in_predictions.qseqid.tolist())\n",
    "        print(len(high_evalue_predictions))\n",
    "    \n",
    "    test_dataset_pandas_filtered = test_dataset_pandas[test_dataset_pandas[\"accession\"].isin(high_evalue_predictions)]\n",
    "    test_dataset_no_similarity = SingleInputDataset(test_dataset_pandas_filtered,\n",
    "                                            instances_ids_field=\"accession\", representation_field=\"sequence\",\n",
    "                                            labels_field=slice(8, 2779))\n",
    "    print(\"loading features...\")\n",
    "    test_dataset_no_similarity.load_features(features_path)\n",
    "\n",
    "    blast_results_no_similarity = blast_results[blast_results[\"qseqid\"].isin(high_evalue_predictions)]\n",
    "    blast_results_true_values_no_similarity = blast_results_true_values[blast_results_true_values[\"accession\"].isin(high_evalue_predictions)]\n",
    "\n",
    "    predictions_blast = blast_results_no_similarity.iloc[:, 6:]\n",
    "    true_values = blast_results_true_values_no_similarity.iloc[:, 8:]\n",
    "\n",
    "    def get_labels_to_remove(dataset):\n",
    "        labels_with_no_positive_sample = []\n",
    "        for i in range(dataset.shape[1]):\n",
    "            if dataset[:, i].sum() == 0:\n",
    "                labels_with_no_positive_sample.append(i)\n",
    "        return labels_with_no_positive_sample\n",
    "\n",
    "    labels_to_remove = get_labels_to_remove(np.array(true_values))\n",
    "\n",
    "    predictions_blast = np.delete(np.array(predictions_blast), labels_to_remove, axis=1)\n",
    "    true_values = np.delete(np.array(true_values), labels_to_remove, axis=1)\n",
    "\n",
    "    results = {}\n",
    "    \n",
    "    if return_blast_results:\n",
    "        print(\"BLAST\")\n",
    "        blast_wf1 = f1_score(true_values, predictions_blast, average=\"weighted\")\n",
    "        blast_mf1 = f1_score(true_values, predictions_blast, average=\"macro\")\n",
    "        print(blast_mf1)\n",
    "        print(blast_wf1)\n",
    "\n",
    "    else:\n",
    "        blast_mf1 = None\n",
    "        blast_wf1 = None\n",
    "    \n",
    "    print(\"loading model...\")\n",
    "\n",
    "    pytorch_model = PyTorchModel.load(model_path)\n",
    "    \n",
    "    print(\"predicting...\")\n",
    "    predictions_esm2_3b_no_similarity = pytorch_model.predict(test_dataset_no_similarity)\n",
    "    # drop columns with only zeros\n",
    "    \n",
    "    labels_to_remove = get_labels_to_remove(test_dataset_no_similarity.y)\n",
    "\n",
    "    predictions_esm2_3b_no_similarity_ = np.delete(predictions_esm2_3b_no_similarity, labels_to_remove, axis=1)\n",
    "    y_true = np.delete(test_dataset_no_similarity.y, labels_to_remove, axis=1)\n",
    "    print(\"Model\")\n",
    "    mf1 = f1_score(y_true, predictions_esm2_3b_no_similarity_, average=\"macro\")\n",
    "    print(mf1)\n",
    "    wf1 = f1_score(y_true, predictions_esm2_3b_no_similarity_, average=\"weighted\")\n",
    "    print(wf1)\n",
    "    return mf1, wf1, len(high_evalue_predictions), blast_mf1, blast_wf1\n",
    "    "
   ]
  },
  {
   "cell_type": "markdown",
   "id": "e37cd450407ea305",
   "metadata": {
    "collapsed": false
   },
   "source": [
    "## Get the results for each of the identity intervals for ESM and ProtBERT models"
   ]
  },
  {
   "cell_type": "code",
   "execution_count": 6,
   "id": "30c92d2a",
   "metadata": {},
   "outputs": [
    {
     "name": "stdout",
     "output_type": "stream",
     "text": [
      "identity 15\n",
      "638\n",
      "loading features...\n"
     ]
    },
    {
     "name": "stderr",
     "output_type": "stream",
     "text": [
      "/home/jcapela/miniconda3/envs/ec_number_prediction/lib/python3.9/site-packages/plants_sm/data_structures/dataset/single_input_dataset.py:120: SettingWithCopyWarning: \n",
      "A value is trying to be set on a copy of a slice from a DataFrame\n",
      "\n",
      "See the caveats in the documentation: https://pandas.pydata.org/pandas-docs/stable/user_guide/indexing.html#returning-a-view-versus-a-copy\n",
      "  self.dataframe.drop(self.representation_field, axis=1, inplace=True)\n"
     ]
    },
    {
     "name": "stdout",
     "output_type": "stream",
     "text": [
      "loading model...\n",
      "predicting...\n"
     ]
    },
    {
     "ename": "RuntimeError",
     "evalue": "CUDA error: out of memory\nCUDA kernel errors might be asynchronously reported at some other API call, so the stacktrace below might be incorrect.\nFor debugging consider passing CUDA_LAUNCH_BLOCKING=1.\nCompile with `TORCH_USE_CUDA_DSA` to enable device-side assertions.\n",
     "output_type": "error",
     "traceback": [
      "\u001b[0;31m---------------------------------------------------------------------------\u001b[0m",
      "\u001b[0;31mRuntimeError\u001b[0m                              Traceback (most recent call last)",
      "Cell \u001b[0;32mIn[6], line 20\u001b[0m\n\u001b[1;32m     18\u001b[0m identity_threshold2 \u001b[38;5;241m=\u001b[39m thresholds[i\u001b[38;5;241m-\u001b[39m\u001b[38;5;241m1\u001b[39m]\n\u001b[1;32m     19\u001b[0m \u001b[38;5;28mprint\u001b[39m(\u001b[38;5;124mf\u001b[39m\u001b[38;5;124m\"\u001b[39m\u001b[38;5;124midentity \u001b[39m\u001b[38;5;132;01m{\u001b[39;00midentity_threshold1\u001b[38;5;132;01m}\u001b[39;00m\u001b[38;5;124m\"\u001b[39m)\n\u001b[0;32m---> 20\u001b[0m mf1, wf1, samples_num, _, _ \u001b[38;5;241m=\u001b[39m \u001b[43mget_less_studied_predictions\u001b[49m\u001b[43m(\u001b[49m\u001b[43mmodel\u001b[49m\u001b[43m,\u001b[49m\u001b[43m \u001b[49m\u001b[43mmodel_path\u001b[49m\u001b[43m,\u001b[49m\n\u001b[1;32m     21\u001b[0m \u001b[43m                            \u001b[49m\u001b[43midentity_threshold1\u001b[49m\u001b[38;5;241;43m=\u001b[39;49m\u001b[43midentity_threshold1\u001b[49m\u001b[43m,\u001b[49m\n\u001b[1;32m     22\u001b[0m \u001b[43m                            \u001b[49m\u001b[43midentity_threshold2\u001b[49m\u001b[38;5;241;43m=\u001b[39;49m\u001b[43midentity_threshold2\u001b[49m\u001b[43m,\u001b[49m\u001b[43m \u001b[49m\u001b[43mreturn_blast_results\u001b[49m\u001b[38;5;241;43m=\u001b[39;49m\u001b[38;5;28;43;01mFalse\u001b[39;49;00m\u001b[43m)\u001b[49m\n\u001b[1;32m     24\u001b[0m \u001b[38;5;28;01mif\u001b[39;00m \u001b[38;5;124m\"\u001b[39m\u001b[38;5;124mmethod\u001b[39m\u001b[38;5;124m\"\u001b[39m \u001b[38;5;129;01mnot\u001b[39;00m \u001b[38;5;129;01min\u001b[39;00m results:\n\u001b[1;32m     25\u001b[0m     results[\u001b[38;5;124m\"\u001b[39m\u001b[38;5;124mmethod\u001b[39m\u001b[38;5;124m\"\u001b[39m] \u001b[38;5;241m=\u001b[39m [model]\n",
      "Cell \u001b[0;32mIn[4], line 69\u001b[0m, in \u001b[0;36mget_less_studied_predictions\u001b[0;34m(model, model_path, evalue_threshold, identity_threshold1, identity_threshold2, return_blast_results, features_path)\u001b[0m\n\u001b[1;32m     66\u001b[0m pytorch_model \u001b[38;5;241m=\u001b[39m PyTorchModel\u001b[38;5;241m.\u001b[39mload(model_path)\n\u001b[1;32m     68\u001b[0m \u001b[38;5;28mprint\u001b[39m(\u001b[38;5;124m\"\u001b[39m\u001b[38;5;124mpredicting...\u001b[39m\u001b[38;5;124m\"\u001b[39m)\n\u001b[0;32m---> 69\u001b[0m predictions_esm2_3b_no_similarity \u001b[38;5;241m=\u001b[39m \u001b[43mpytorch_model\u001b[49m\u001b[38;5;241;43m.\u001b[39;49m\u001b[43mpredict\u001b[49m\u001b[43m(\u001b[49m\u001b[43mtest_dataset_no_similarity\u001b[49m\u001b[43m)\u001b[49m\n\u001b[1;32m     70\u001b[0m \u001b[38;5;66;03m# drop columns with only zeros\u001b[39;00m\n\u001b[1;32m     72\u001b[0m labels_to_remove \u001b[38;5;241m=\u001b[39m get_labels_to_remove(test_dataset_no_similarity\u001b[38;5;241m.\u001b[39my)\n",
      "File \u001b[0;32m~/miniconda3/envs/ec_number_prediction/lib/python3.9/site-packages/plants_sm/models/model.py:187\u001b[0m, in \u001b[0;36mModel.predict\u001b[0;34m(self, dataset, **kwargs)\u001b[0m\n\u001b[1;32m    173\u001b[0m \u001b[38;5;28;01mdef\u001b[39;00m \u001b[38;5;21mpredict\u001b[39m(\u001b[38;5;28mself\u001b[39m, dataset: Dataset, \u001b[38;5;241m*\u001b[39m\u001b[38;5;241m*\u001b[39mkwargs) \u001b[38;5;241m-\u001b[39m\u001b[38;5;241m>\u001b[39m np\u001b[38;5;241m.\u001b[39mndarray:\n\u001b[1;32m    174\u001b[0m \u001b[38;5;250m    \u001b[39m\u001b[38;5;124;03m\"\"\"\u001b[39;00m\n\u001b[1;32m    175\u001b[0m \u001b[38;5;124;03m    Predicts the classes.\u001b[39;00m\n\u001b[1;32m    176\u001b[0m \n\u001b[0;32m   (...)\u001b[0m\n\u001b[1;32m    185\u001b[0m \u001b[38;5;124;03m        The predicted classes.\u001b[39;00m\n\u001b[1;32m    186\u001b[0m \u001b[38;5;124;03m    \"\"\"\u001b[39;00m\n\u001b[0;32m--> 187\u001b[0m     \u001b[38;5;28;01mreturn\u001b[39;00m \u001b[38;5;28;43mself\u001b[39;49m\u001b[38;5;241;43m.\u001b[39;49m\u001b[43m_predict\u001b[49m\u001b[43m(\u001b[49m\u001b[43mdataset\u001b[49m\u001b[43m,\u001b[49m\u001b[43m \u001b[49m\u001b[38;5;241;43m*\u001b[39;49m\u001b[38;5;241;43m*\u001b[39;49m\u001b[43mkwargs\u001b[49m\u001b[43m)\u001b[49m\n",
      "File \u001b[0;32m~/miniconda3/envs/ec_number_prediction/lib/python3.9/site-packages/plants_sm/models/pytorch_model.py:951\u001b[0m, in \u001b[0;36mPyTorchModel._predict\u001b[0;34m(self, dataset)\u001b[0m\n\u001b[1;32m    937\u001b[0m \u001b[38;5;28;01mdef\u001b[39;00m \u001b[38;5;21m_predict\u001b[39m(\u001b[38;5;28mself\u001b[39m, dataset: Dataset) \u001b[38;5;241m-\u001b[39m\u001b[38;5;241m>\u001b[39m np\u001b[38;5;241m.\u001b[39mndarray:\n\u001b[1;32m    938\u001b[0m \u001b[38;5;250m    \u001b[39m\u001b[38;5;124;03m\"\"\"\u001b[39;00m\n\u001b[1;32m    939\u001b[0m \u001b[38;5;124;03m    Predicts the class for each sample in the dataset.\u001b[39;00m\n\u001b[1;32m    940\u001b[0m \n\u001b[0;32m   (...)\u001b[0m\n\u001b[1;32m    949\u001b[0m \u001b[38;5;124;03m        Array of predictions\u001b[39;00m\n\u001b[1;32m    950\u001b[0m \u001b[38;5;124;03m    \"\"\"\u001b[39;00m\n\u001b[0;32m--> 951\u001b[0m     y_pred_proba \u001b[38;5;241m=\u001b[39m \u001b[38;5;28;43mself\u001b[39;49m\u001b[38;5;241;43m.\u001b[39;49m\u001b[43m_predict_proba\u001b[49m\u001b[43m(\u001b[49m\u001b[43mdataset\u001b[49m\u001b[43m)\u001b[49m\n\u001b[1;32m    952\u001b[0m     y_pred \u001b[38;5;241m=\u001b[39m \u001b[38;5;28mself\u001b[39m\u001b[38;5;241m.\u001b[39mget_pred_from_proba(y_pred_proba)\n\u001b[1;32m    953\u001b[0m     \u001b[38;5;28;01mreturn\u001b[39;00m y_pred\n",
      "File \u001b[0;32m~/miniconda3/envs/ec_number_prediction/lib/python3.9/site-packages/plants_sm/models/pytorch_model.py:930\u001b[0m, in \u001b[0;36mPyTorchModel._predict_proba\u001b[0;34m(self, dataset)\u001b[0m\n\u001b[1;32m    927\u001b[0m \u001b[38;5;28;01mwith\u001b[39;00m torch\u001b[38;5;241m.\u001b[39mno_grad():\n\u001b[1;32m    929\u001b[0m     \u001b[38;5;28;01mif\u001b[39;00m dataset\u001b[38;5;241m.\u001b[39mbatch_size \u001b[38;5;129;01mis\u001b[39;00m \u001b[38;5;28;01mNone\u001b[39;00m:\n\u001b[0;32m--> 930\u001b[0m         predictions \u001b[38;5;241m=\u001b[39m \u001b[38;5;28;43mself\u001b[39;49m\u001b[38;5;241;43m.\u001b[39;49m\u001b[43m_predict_proba_batch\u001b[49m\u001b[43m(\u001b[49m\u001b[43mdataset\u001b[49m\u001b[43m)\u001b[49m\n\u001b[1;32m    931\u001b[0m     \u001b[38;5;28;01melse\u001b[39;00m:\n\u001b[1;32m    932\u001b[0m         \u001b[38;5;28;01mwhile\u001b[39;00m dataset\u001b[38;5;241m.\u001b[39mnext_batch():\n",
      "File \u001b[0;32m~/miniconda3/envs/ec_number_prediction/lib/python3.9/site-packages/plants_sm/models/pytorch_model.py:891\u001b[0m, in \u001b[0;36mPyTorchModel._predict_proba_batch\u001b[0;34m(self, dataset, predictions)\u001b[0m\n\u001b[1;32m    888\u001b[0m \u001b[38;5;28;01mfor\u001b[39;00m j, inputs_elem \u001b[38;5;129;01min\u001b[39;00m \u001b[38;5;28menumerate\u001b[39m(inputs_targets):\n\u001b[1;32m    889\u001b[0m     inputs_targets[j] \u001b[38;5;241m=\u001b[39m inputs_elem\u001b[38;5;241m.\u001b[39mto(\u001b[38;5;28mself\u001b[39m\u001b[38;5;241m.\u001b[39mdevice)\n\u001b[0;32m--> 891\u001b[0m yhat \u001b[38;5;241m=\u001b[39m \u001b[38;5;28;43mself\u001b[39;49m\u001b[38;5;241;43m.\u001b[39;49m\u001b[43mmodel\u001b[49m\u001b[43m(\u001b[49m\u001b[43minputs_targets\u001b[49m\u001b[43m)\u001b[49m\n\u001b[1;32m    893\u001b[0m yhat \u001b[38;5;241m=\u001b[39m array_from_tensor(yhat)\n\u001b[1;32m    894\u001b[0m yhat \u001b[38;5;241m=\u001b[39m array_reshape(yhat)\n",
      "File \u001b[0;32m~/.local/lib/python3.9/site-packages/torch/nn/modules/module.py:1518\u001b[0m, in \u001b[0;36mModule._wrapped_call_impl\u001b[0;34m(self, *args, **kwargs)\u001b[0m\n\u001b[1;32m   1516\u001b[0m     \u001b[38;5;28;01mreturn\u001b[39;00m \u001b[38;5;28mself\u001b[39m\u001b[38;5;241m.\u001b[39m_compiled_call_impl(\u001b[38;5;241m*\u001b[39margs, \u001b[38;5;241m*\u001b[39m\u001b[38;5;241m*\u001b[39mkwargs)  \u001b[38;5;66;03m# type: ignore[misc]\u001b[39;00m\n\u001b[1;32m   1517\u001b[0m \u001b[38;5;28;01melse\u001b[39;00m:\n\u001b[0;32m-> 1518\u001b[0m     \u001b[38;5;28;01mreturn\u001b[39;00m \u001b[38;5;28;43mself\u001b[39;49m\u001b[38;5;241;43m.\u001b[39;49m\u001b[43m_call_impl\u001b[49m\u001b[43m(\u001b[49m\u001b[38;5;241;43m*\u001b[39;49m\u001b[43margs\u001b[49m\u001b[43m,\u001b[49m\u001b[43m \u001b[49m\u001b[38;5;241;43m*\u001b[39;49m\u001b[38;5;241;43m*\u001b[39;49m\u001b[43mkwargs\u001b[49m\u001b[43m)\u001b[49m\n",
      "File \u001b[0;32m~/.local/lib/python3.9/site-packages/torch/nn/modules/module.py:1527\u001b[0m, in \u001b[0;36mModule._call_impl\u001b[0;34m(self, *args, **kwargs)\u001b[0m\n\u001b[1;32m   1522\u001b[0m \u001b[38;5;66;03m# If we don't have any hooks, we want to skip the rest of the logic in\u001b[39;00m\n\u001b[1;32m   1523\u001b[0m \u001b[38;5;66;03m# this function, and just call forward.\u001b[39;00m\n\u001b[1;32m   1524\u001b[0m \u001b[38;5;28;01mif\u001b[39;00m \u001b[38;5;129;01mnot\u001b[39;00m (\u001b[38;5;28mself\u001b[39m\u001b[38;5;241m.\u001b[39m_backward_hooks \u001b[38;5;129;01mor\u001b[39;00m \u001b[38;5;28mself\u001b[39m\u001b[38;5;241m.\u001b[39m_backward_pre_hooks \u001b[38;5;129;01mor\u001b[39;00m \u001b[38;5;28mself\u001b[39m\u001b[38;5;241m.\u001b[39m_forward_hooks \u001b[38;5;129;01mor\u001b[39;00m \u001b[38;5;28mself\u001b[39m\u001b[38;5;241m.\u001b[39m_forward_pre_hooks\n\u001b[1;32m   1525\u001b[0m         \u001b[38;5;129;01mor\u001b[39;00m _global_backward_pre_hooks \u001b[38;5;129;01mor\u001b[39;00m _global_backward_hooks\n\u001b[1;32m   1526\u001b[0m         \u001b[38;5;129;01mor\u001b[39;00m _global_forward_hooks \u001b[38;5;129;01mor\u001b[39;00m _global_forward_pre_hooks):\n\u001b[0;32m-> 1527\u001b[0m     \u001b[38;5;28;01mreturn\u001b[39;00m \u001b[43mforward_call\u001b[49m\u001b[43m(\u001b[49m\u001b[38;5;241;43m*\u001b[39;49m\u001b[43margs\u001b[49m\u001b[43m,\u001b[49m\u001b[43m \u001b[49m\u001b[38;5;241;43m*\u001b[39;49m\u001b[38;5;241;43m*\u001b[39;49m\u001b[43mkwargs\u001b[49m\u001b[43m)\u001b[49m\n\u001b[1;32m   1529\u001b[0m \u001b[38;5;28;01mtry\u001b[39;00m:\n\u001b[1;32m   1530\u001b[0m     result \u001b[38;5;241m=\u001b[39m \u001b[38;5;28;01mNone\u001b[39;00m\n",
      "File \u001b[0;32m~/miniconda3/envs/ec_number_prediction/lib/python3.9/site-packages/plants_sm/models/fc/fc.py:49\u001b[0m, in \u001b[0;36mDNN.forward\u001b[0;34m(self, x)\u001b[0m\n\u001b[1;32m     47\u001b[0m out \u001b[38;5;241m=\u001b[39m \u001b[38;5;28mself\u001b[39m\u001b[38;5;241m.\u001b[39mfc_initial(x)\n\u001b[1;32m     48\u001b[0m \u001b[38;5;28;01mif\u001b[39;00m \u001b[38;5;28mself\u001b[39m\u001b[38;5;241m.\u001b[39mbatch_norm \u001b[38;5;129;01mand\u001b[39;00m x\u001b[38;5;241m.\u001b[39mshape[\u001b[38;5;241m0\u001b[39m] \u001b[38;5;241m>\u001b[39m \u001b[38;5;241m1\u001b[39m:\n\u001b[0;32m---> 49\u001b[0m     out \u001b[38;5;241m=\u001b[39m \u001b[38;5;28;43mself\u001b[39;49m\u001b[38;5;241;43m.\u001b[39;49m\u001b[43mbatch_norm_initial\u001b[49m\u001b[43m(\u001b[49m\u001b[43mout\u001b[49m\u001b[43m)\u001b[49m\n\u001b[1;32m     50\u001b[0m out \u001b[38;5;241m=\u001b[39m \u001b[38;5;28mself\u001b[39m\u001b[38;5;241m.\u001b[39mrelu_initial(out)\n\u001b[1;32m     51\u001b[0m \u001b[38;5;28;01mif\u001b[39;00m \u001b[38;5;28mself\u001b[39m\u001b[38;5;241m.\u001b[39mdropout \u001b[38;5;129;01mis\u001b[39;00m \u001b[38;5;129;01mnot\u001b[39;00m \u001b[38;5;28;01mNone\u001b[39;00m:\n",
      "File \u001b[0;32m~/.local/lib/python3.9/site-packages/torch/nn/modules/module.py:1518\u001b[0m, in \u001b[0;36mModule._wrapped_call_impl\u001b[0;34m(self, *args, **kwargs)\u001b[0m\n\u001b[1;32m   1516\u001b[0m     \u001b[38;5;28;01mreturn\u001b[39;00m \u001b[38;5;28mself\u001b[39m\u001b[38;5;241m.\u001b[39m_compiled_call_impl(\u001b[38;5;241m*\u001b[39margs, \u001b[38;5;241m*\u001b[39m\u001b[38;5;241m*\u001b[39mkwargs)  \u001b[38;5;66;03m# type: ignore[misc]\u001b[39;00m\n\u001b[1;32m   1517\u001b[0m \u001b[38;5;28;01melse\u001b[39;00m:\n\u001b[0;32m-> 1518\u001b[0m     \u001b[38;5;28;01mreturn\u001b[39;00m \u001b[38;5;28;43mself\u001b[39;49m\u001b[38;5;241;43m.\u001b[39;49m\u001b[43m_call_impl\u001b[49m\u001b[43m(\u001b[49m\u001b[38;5;241;43m*\u001b[39;49m\u001b[43margs\u001b[49m\u001b[43m,\u001b[49m\u001b[43m \u001b[49m\u001b[38;5;241;43m*\u001b[39;49m\u001b[38;5;241;43m*\u001b[39;49m\u001b[43mkwargs\u001b[49m\u001b[43m)\u001b[49m\n",
      "File \u001b[0;32m~/.local/lib/python3.9/site-packages/torch/nn/modules/module.py:1527\u001b[0m, in \u001b[0;36mModule._call_impl\u001b[0;34m(self, *args, **kwargs)\u001b[0m\n\u001b[1;32m   1522\u001b[0m \u001b[38;5;66;03m# If we don't have any hooks, we want to skip the rest of the logic in\u001b[39;00m\n\u001b[1;32m   1523\u001b[0m \u001b[38;5;66;03m# this function, and just call forward.\u001b[39;00m\n\u001b[1;32m   1524\u001b[0m \u001b[38;5;28;01mif\u001b[39;00m \u001b[38;5;129;01mnot\u001b[39;00m (\u001b[38;5;28mself\u001b[39m\u001b[38;5;241m.\u001b[39m_backward_hooks \u001b[38;5;129;01mor\u001b[39;00m \u001b[38;5;28mself\u001b[39m\u001b[38;5;241m.\u001b[39m_backward_pre_hooks \u001b[38;5;129;01mor\u001b[39;00m \u001b[38;5;28mself\u001b[39m\u001b[38;5;241m.\u001b[39m_forward_hooks \u001b[38;5;129;01mor\u001b[39;00m \u001b[38;5;28mself\u001b[39m\u001b[38;5;241m.\u001b[39m_forward_pre_hooks\n\u001b[1;32m   1525\u001b[0m         \u001b[38;5;129;01mor\u001b[39;00m _global_backward_pre_hooks \u001b[38;5;129;01mor\u001b[39;00m _global_backward_hooks\n\u001b[1;32m   1526\u001b[0m         \u001b[38;5;129;01mor\u001b[39;00m _global_forward_hooks \u001b[38;5;129;01mor\u001b[39;00m _global_forward_pre_hooks):\n\u001b[0;32m-> 1527\u001b[0m     \u001b[38;5;28;01mreturn\u001b[39;00m \u001b[43mforward_call\u001b[49m\u001b[43m(\u001b[49m\u001b[38;5;241;43m*\u001b[39;49m\u001b[43margs\u001b[49m\u001b[43m,\u001b[49m\u001b[43m \u001b[49m\u001b[38;5;241;43m*\u001b[39;49m\u001b[38;5;241;43m*\u001b[39;49m\u001b[43mkwargs\u001b[49m\u001b[43m)\u001b[49m\n\u001b[1;32m   1529\u001b[0m \u001b[38;5;28;01mtry\u001b[39;00m:\n\u001b[1;32m   1530\u001b[0m     result \u001b[38;5;241m=\u001b[39m \u001b[38;5;28;01mNone\u001b[39;00m\n",
      "File \u001b[0;32m~/.local/lib/python3.9/site-packages/torch/nn/modules/batchnorm.py:171\u001b[0m, in \u001b[0;36m_BatchNorm.forward\u001b[0;34m(self, input)\u001b[0m\n\u001b[1;32m    164\u001b[0m     bn_training \u001b[38;5;241m=\u001b[39m (\u001b[38;5;28mself\u001b[39m\u001b[38;5;241m.\u001b[39mrunning_mean \u001b[38;5;129;01mis\u001b[39;00m \u001b[38;5;28;01mNone\u001b[39;00m) \u001b[38;5;129;01mand\u001b[39;00m (\u001b[38;5;28mself\u001b[39m\u001b[38;5;241m.\u001b[39mrunning_var \u001b[38;5;129;01mis\u001b[39;00m \u001b[38;5;28;01mNone\u001b[39;00m)\n\u001b[1;32m    166\u001b[0m \u001b[38;5;250m\u001b[39m\u001b[38;5;124mr\u001b[39m\u001b[38;5;124;03m\"\"\"\u001b[39;00m\n\u001b[1;32m    167\u001b[0m \u001b[38;5;124;03mBuffers are only updated if they are to be tracked and we are in training mode. Thus they only need to be\u001b[39;00m\n\u001b[1;32m    168\u001b[0m \u001b[38;5;124;03mpassed when the update should occur (i.e. in training mode when they are tracked), or when buffer stats are\u001b[39;00m\n\u001b[1;32m    169\u001b[0m \u001b[38;5;124;03mused for normalization (i.e. in eval mode when buffers are not None).\u001b[39;00m\n\u001b[1;32m    170\u001b[0m \u001b[38;5;124;03m\"\"\"\u001b[39;00m\n\u001b[0;32m--> 171\u001b[0m \u001b[38;5;28;01mreturn\u001b[39;00m \u001b[43mF\u001b[49m\u001b[38;5;241;43m.\u001b[39;49m\u001b[43mbatch_norm\u001b[49m\u001b[43m(\u001b[49m\n\u001b[1;32m    172\u001b[0m \u001b[43m    \u001b[49m\u001b[38;5;28;43minput\u001b[39;49m\u001b[43m,\u001b[49m\n\u001b[1;32m    173\u001b[0m \u001b[43m    \u001b[49m\u001b[38;5;66;43;03m# If buffers are not to be tracked, ensure that they won't be updated\u001b[39;49;00m\n\u001b[1;32m    174\u001b[0m \u001b[43m    \u001b[49m\u001b[38;5;28;43mself\u001b[39;49m\u001b[38;5;241;43m.\u001b[39;49m\u001b[43mrunning_mean\u001b[49m\n\u001b[1;32m    175\u001b[0m \u001b[43m    \u001b[49m\u001b[38;5;28;43;01mif\u001b[39;49;00m\u001b[43m \u001b[49m\u001b[38;5;129;43;01mnot\u001b[39;49;00m\u001b[43m \u001b[49m\u001b[38;5;28;43mself\u001b[39;49m\u001b[38;5;241;43m.\u001b[39;49m\u001b[43mtraining\u001b[49m\u001b[43m \u001b[49m\u001b[38;5;129;43;01mor\u001b[39;49;00m\u001b[43m \u001b[49m\u001b[38;5;28;43mself\u001b[39;49m\u001b[38;5;241;43m.\u001b[39;49m\u001b[43mtrack_running_stats\u001b[49m\n\u001b[1;32m    176\u001b[0m \u001b[43m    \u001b[49m\u001b[38;5;28;43;01melse\u001b[39;49;00m\u001b[43m \u001b[49m\u001b[38;5;28;43;01mNone\u001b[39;49;00m\u001b[43m,\u001b[49m\n\u001b[1;32m    177\u001b[0m \u001b[43m    \u001b[49m\u001b[38;5;28;43mself\u001b[39;49m\u001b[38;5;241;43m.\u001b[39;49m\u001b[43mrunning_var\u001b[49m\u001b[43m \u001b[49m\u001b[38;5;28;43;01mif\u001b[39;49;00m\u001b[43m \u001b[49m\u001b[38;5;129;43;01mnot\u001b[39;49;00m\u001b[43m \u001b[49m\u001b[38;5;28;43mself\u001b[39;49m\u001b[38;5;241;43m.\u001b[39;49m\u001b[43mtraining\u001b[49m\u001b[43m \u001b[49m\u001b[38;5;129;43;01mor\u001b[39;49;00m\u001b[43m \u001b[49m\u001b[38;5;28;43mself\u001b[39;49m\u001b[38;5;241;43m.\u001b[39;49m\u001b[43mtrack_running_stats\u001b[49m\u001b[43m \u001b[49m\u001b[38;5;28;43;01melse\u001b[39;49;00m\u001b[43m \u001b[49m\u001b[38;5;28;43;01mNone\u001b[39;49;00m\u001b[43m,\u001b[49m\n\u001b[1;32m    178\u001b[0m \u001b[43m    \u001b[49m\u001b[38;5;28;43mself\u001b[39;49m\u001b[38;5;241;43m.\u001b[39;49m\u001b[43mweight\u001b[49m\u001b[43m,\u001b[49m\n\u001b[1;32m    179\u001b[0m \u001b[43m    \u001b[49m\u001b[38;5;28;43mself\u001b[39;49m\u001b[38;5;241;43m.\u001b[39;49m\u001b[43mbias\u001b[49m\u001b[43m,\u001b[49m\n\u001b[1;32m    180\u001b[0m \u001b[43m    \u001b[49m\u001b[43mbn_training\u001b[49m\u001b[43m,\u001b[49m\n\u001b[1;32m    181\u001b[0m \u001b[43m    \u001b[49m\u001b[43mexponential_average_factor\u001b[49m\u001b[43m,\u001b[49m\n\u001b[1;32m    182\u001b[0m \u001b[43m    \u001b[49m\u001b[38;5;28;43mself\u001b[39;49m\u001b[38;5;241;43m.\u001b[39;49m\u001b[43meps\u001b[49m\u001b[43m,\u001b[49m\n\u001b[1;32m    183\u001b[0m \u001b[43m\u001b[49m\u001b[43m)\u001b[49m\n",
      "File \u001b[0;32m~/.local/lib/python3.9/site-packages/torch/nn/functional.py:2478\u001b[0m, in \u001b[0;36mbatch_norm\u001b[0;34m(input, running_mean, running_var, weight, bias, training, momentum, eps)\u001b[0m\n\u001b[1;32m   2475\u001b[0m \u001b[38;5;28;01mif\u001b[39;00m training:\n\u001b[1;32m   2476\u001b[0m     _verify_batch_size(\u001b[38;5;28minput\u001b[39m\u001b[38;5;241m.\u001b[39msize())\n\u001b[0;32m-> 2478\u001b[0m \u001b[38;5;28;01mreturn\u001b[39;00m \u001b[43mtorch\u001b[49m\u001b[38;5;241;43m.\u001b[39;49m\u001b[43mbatch_norm\u001b[49m\u001b[43m(\u001b[49m\n\u001b[1;32m   2479\u001b[0m \u001b[43m    \u001b[49m\u001b[38;5;28;43minput\u001b[39;49m\u001b[43m,\u001b[49m\u001b[43m \u001b[49m\u001b[43mweight\u001b[49m\u001b[43m,\u001b[49m\u001b[43m \u001b[49m\u001b[43mbias\u001b[49m\u001b[43m,\u001b[49m\u001b[43m \u001b[49m\u001b[43mrunning_mean\u001b[49m\u001b[43m,\u001b[49m\u001b[43m \u001b[49m\u001b[43mrunning_var\u001b[49m\u001b[43m,\u001b[49m\u001b[43m \u001b[49m\u001b[43mtraining\u001b[49m\u001b[43m,\u001b[49m\u001b[43m \u001b[49m\u001b[43mmomentum\u001b[49m\u001b[43m,\u001b[49m\u001b[43m \u001b[49m\u001b[43meps\u001b[49m\u001b[43m,\u001b[49m\u001b[43m \u001b[49m\u001b[43mtorch\u001b[49m\u001b[38;5;241;43m.\u001b[39;49m\u001b[43mbackends\u001b[49m\u001b[38;5;241;43m.\u001b[39;49m\u001b[43mcudnn\u001b[49m\u001b[38;5;241;43m.\u001b[39;49m\u001b[43menabled\u001b[49m\n\u001b[1;32m   2480\u001b[0m \u001b[43m\u001b[49m\u001b[43m)\u001b[49m\n",
      "\u001b[0;31mRuntimeError\u001b[0m: CUDA error: out of memory\nCUDA kernel errors might be asynchronously reported at some other API call, so the stacktrace below might be incorrect.\nFor debugging consider passing CUDA_LAUNCH_BLOCKING=1.\nCompile with `TORCH_USE_CUDA_DSA` to enable device-side assertions.\n"
     ]
    }
   ],
   "source": [
    "model = \"esm2_t36_3B_UR50D\"\n",
    "model_path = f\"{data_path}/models/DNN_esm2_t36_3B_UR50D_trial_2_merged\"\n",
    "\n",
    "\n",
    "models = [(\"esm2_3b\", f\"{data_path}/models/DNN_esm2_t36_3B_UR50D_trial_2_merged\"), \n",
    "          (\"prot_bert\", f\"{data_path}/models/DNN_prot_bert_vectors_trial_2_merged\"), \n",
    "          (\"esm1b\", f\"{data_path}/models/DNN_esm1b_t33_650M_UR50S_trial_4_merged\")]\n",
    "\n",
    "results = {}\n",
    "thresholds = [0, 15, 25, 35, 45, 55, 65, 75, 85, 90, 100]\n",
    "#thresholds = [90, 100]\n",
    "\n",
    "\n",
    "for model, model_path in models:\n",
    "    for i in range(1, len(thresholds)):\n",
    "\n",
    "        identity_threshold1 = thresholds[i]\n",
    "        identity_threshold2 = thresholds[i-1]\n",
    "        print(f\"identity {identity_threshold1}\")\n",
    "        mf1, wf1, samples_num, _, _ = get_less_studied_predictions(model, model_path,\n",
    "                                    identity_threshold1=identity_threshold1,\n",
    "                                    identity_threshold2=identity_threshold2, return_blast_results=False)\n",
    "        \n",
    "        if \"method\" not in results:\n",
    "            results[\"method\"] = [model]\n",
    "        else:\n",
    "            results[\"method\"].append(model)\n",
    "        \n",
    "        if \"identity_threshold\" not in results:\n",
    "            results[\"identity_threshold\"] = [identity_threshold1]\n",
    "        else:\n",
    "            results[\"identity_threshold\"].append(identity_threshold1)\n",
    "\n",
    "        if \"macro_f1\" not in results:\n",
    "            results[\"macro_f1\"] = [mf1]\n",
    "        else:\n",
    "            results[\"macro_f1\"].append(mf1)\n",
    "\n",
    "        if \"weighted_f1\" not in results:\n",
    "            results[\"weighted_f1\"] = [wf1]\n",
    "\n",
    "        else:\n",
    "            results[\"weighted_f1\"].append(wf1)\n",
    "\n",
    "        if \"samples_num\" not in results:\n",
    "            results[\"samples_num\"] = [samples_num]\n",
    "        else:\n",
    "            results[\"samples_num\"].append(samples_num)\n",
    "\n",
    "pd.DataFrame(results).to_csv(\"less_studied_results.csv\", index=False)"
   ]
  },
  {
   "cell_type": "markdown",
   "id": "f4061a8e3e3fcc1a",
   "metadata": {
    "collapsed": false
   },
   "source": [
    "## Get the results for each of the identity intervals for DeepEC and DSPACE models"
   ]
  },
  {
   "cell_type": "code",
   "execution_count": null,
   "id": "b4a746af",
   "metadata": {},
   "outputs": [
    {
     "name": "stdout",
     "output_type": "stream",
     "text": [
      "identity 15\n",
      "638\n",
      "loading features...\n"
     ]
    },
    {
     "name": "stderr",
     "output_type": "stream",
     "text": [
      "/home/jcapela/miniconda3/envs/ec_number_prediction/lib/python3.9/site-packages/plants_sm/data_structures/dataset/single_input_dataset.py:120: SettingWithCopyWarning: \n",
      "A value is trying to be set on a copy of a slice from a DataFrame\n",
      "\n",
      "See the caveats in the documentation: https://pandas.pydata.org/pandas-docs/stable/user_guide/indexing.html#returning-a-view-versus-a-copy\n",
      "  self.dataframe.drop(self.representation_field, axis=1, inplace=True)\n"
     ]
    },
    {
     "ename": "",
     "evalue": "",
     "output_type": "error",
     "traceback": [
      "\u001b[1;31mThe Kernel crashed while executing code in the current cell or a previous cell. \n",
      "\u001b[1;31mPlease review the code in the cell(s) to identify a possible cause of the failure. \n",
      "\u001b[1;31mClick <a href='https://aka.ms/vscodeJupyterKernelCrash'>here</a> for more info. \n",
      "\u001b[1;31mView Jupyter <a href='command:jupyter.viewOutput'>log</a> for further details."
     ]
    }
   ],
   "source": [
    "model = \"esm2_t36_3B_UR50D\"\n",
    "model_path = f\"{data_path}/models/DNN_esm2_t36_3B_UR50D_trial_2_merged\"\n",
    "\n",
    "\n",
    "models = [(\"DeepEC\", \"one_hot\", f\"{data_path}/models/DeepEC_merged_merged\"), \n",
    "          (\"DSPACE\", \"one_hot\", f\"{data_path}/models/DSPACE_merged_merged\") \n",
    "         ]\n",
    "\n",
    "thresholds = [0, 15, 25, 35, 45, 55, 65, 75, 85, 90, 100]\n",
    "#thresholds = [90, 100]\n",
    "\n",
    "def f1_score_macro():\n",
    "    pass\n",
    "\n",
    "results = {}\n",
    "for model_name,model, model_path in models:\n",
    "    for i in range(1, len(thresholds)):\n",
    "\n",
    "        identity_threshold1 = thresholds[i]\n",
    "        identity_threshold2 = thresholds[i-1]\n",
    "        print(f\"identity {identity_threshold1}\")\n",
    "        mf1, wf1, samples_num, _, _ = get_less_studied_predictions(model, model_path,\n",
    "                                    identity_threshold1=identity_threshold1,\n",
    "                                    identity_threshold2=identity_threshold2, return_blast_results=False,\n",
    "                                    features_path=f'{data_path}/features/test_one_hot/')\n",
    "        \n",
    "        if \"method\" not in results:\n",
    "            results[\"method\"] = [model_name]\n",
    "        else:\n",
    "            results[\"method\"].append(model_name)\n",
    "        \n",
    "        if \"identity_threshold\" not in results:\n",
    "            results[\"identity_threshold\"] = [identity_threshold1]\n",
    "        else:\n",
    "            results[\"identity_threshold\"].append(identity_threshold1)\n",
    "\n",
    "        if \"macro_f1\" not in results:\n",
    "            results[\"macro_f1\"] = [mf1]\n",
    "        else:\n",
    "            results[\"macro_f1\"].append(mf1)\n",
    "\n",
    "        if \"weighted_f1\" not in results:\n",
    "            results[\"weighted_f1\"] = [wf1]\n",
    "\n",
    "        else:\n",
    "            results[\"weighted_f1\"].append(wf1)\n",
    "\n",
    "        if \"samples_num\" not in results:\n",
    "            results[\"samples_num\"] = [samples_num]\n",
    "        else:\n",
    "            results[\"samples_num\"].append(samples_num)\n",
    "            \n",
    "pd.read_csv(\"less_studied_results.csv\").append(pd.DataFrame(results)).to_csv(\"less_studied_results.csv\", index=False)"
   ]
  },
  {
   "cell_type": "markdown",
   "id": "6fb5867a49004594",
   "metadata": {
    "collapsed": false
   },
   "source": [
    "## Get the results for each of the identity intervals for BLASTp"
   ]
  },
  {
   "cell_type": "code",
   "execution_count": null,
   "id": "554924f2cf355abe",
   "metadata": {
    "collapsed": false
   },
   "outputs": [],
   "source": [
    "model = \"esm2_t36_3B_UR50D\"\n",
    "model_path = f\"{data_path}/models/DNN_esm2_t36_3B_UR50D_trial_2_merged\"\n",
    "\n",
    "less_studied_enzymes = pd.read_csv(\"less_studied_results.csv\")\n",
    "\n",
    "results = {}\n",
    "thresholds = [0, 15, 25, 35, 45, 55, 65, 75, 85, 90, 100]\n",
    "for i in range(1, len(thresholds)):\n",
    "    identity_threshold1 = thresholds[i]\n",
    "    identity_threshold2 = thresholds[i-1]\n",
    "    mf1, wf1, samples_num, blast_mf1_score, blast_wf1_score = get_less_studied_predictions(model, model_path,\n",
    "                                        identity_threshold1=identity_threshold1,\n",
    "                                        identity_threshold2=identity_threshold2, return_blast_results=True)\n",
    "    if \"method\" not in results:\n",
    "        results[\"method\"] = [\"BLASTp\"]\n",
    "    else:\n",
    "        results[\"method\"].append(\"BLASTp\")\n",
    "\n",
    "    if \"identity_threshold\" not in results:\n",
    "        results[\"identity_threshold\"] = [identity_threshold1]\n",
    "    else:\n",
    "        results[\"identity_threshold\"].append(identity_threshold1)\n",
    "\n",
    "    if \"macro_f1\" not in results:\n",
    "        results[\"macro_f1\"] = [blast_mf1_score]\n",
    "    else:\n",
    "        results[\"macro_f1\"].append(blast_mf1_score)\n",
    "    \n",
    "    if \"weighted_f1\" not in results:\n",
    "        results[\"weighted_f1\"] = [blast_wf1_score]\n",
    "    else:\n",
    "        results[\"weighted_f1\"].append(blast_wf1_score)\n",
    "    \n",
    "    if \"samples_num\" not in results:\n",
    "        results[\"samples_num\"] = [samples_num]\n",
    "    else:\n",
    "        results[\"samples_num\"].append(samples_num)\n"
   ]
  },
  {
   "cell_type": "markdown",
   "id": "4c21960af7e7aa45",
   "metadata": {
    "collapsed": false
   },
   "source": [
    "## Get the results for each of the identity intervals for the ensemble of models and BLASTp"
   ]
  },
  {
   "cell_type": "markdown",
   "id": "581af0736d2c43d0",
   "metadata": {
    "collapsed": false
   },
   "source": [
    "### Note that the predictions were already saved in a pickle file"
   ]
  },
  {
   "cell_type": "code",
   "execution_count": null,
   "id": "270d57c6a89f8b36",
   "metadata": {
    "collapsed": false
   },
   "outputs": [],
   "source": [
    "import pickle\n",
    "\n",
    "with open(f\"{data_path}/predictions/predictions_models_voting.pkl\", \"rb\") as f:\n",
    "    voting_predictions = pickle.load(f)\n",
    "\n",
    "# read predictions from pickle file\n",
    "import pickle\n",
    "\n",
    "with open(f\"{data_path}/predictions/predictions_models_voting_blast.pkl\", \"rb\") as f:\n",
    "    voting_predictions_blast = pickle.load(f)"
   ]
  },
  {
   "cell_type": "code",
   "execution_count": null,
   "id": "2a3e2dce867419e0",
   "metadata": {
    "collapsed": false
   },
   "outputs": [],
   "source": [
    "results = {}\n",
    "thresholds = [0, 15, 25, 35, 45, 55, 65, 75, 85, 90, 100]\n",
    "#thresholds = [90, 100]\n",
    "\n",
    "for method in [\"Models + BLASTp ensemble\", \"Models ensemble\"]:\n",
    "    for i in range(1, len(thresholds)):\n",
    "\n",
    "        if method == \"Models ensemble\":\n",
    "            voting_predictions_ = voting_predictions\n",
    "        else:\n",
    "            voting_predictions_ = voting_predictions_blast\n",
    "\n",
    "        identity_threshold1 = thresholds[i]\n",
    "        identity_threshold2 = thresholds[i-1]\n",
    "        print(f\"identity {identity_threshold1}\")\n",
    "        mf1, samples_num = get_less_studied_predictions(voting_predictions_,\n",
    "                                    identity_threshold1=identity_threshold1,\n",
    "                                    identity_threshold2=identity_threshold2)\n",
    "\n",
    "        if \"method\" not in results:\n",
    "            results[\"method\"] = [method]\n",
    "        else:\n",
    "            results[\"method\"].append(method)\n",
    "        \n",
    "        if \"identity_threshold\" not in results:\n",
    "            results[\"identity_threshold\"] = [identity_threshold1]\n",
    "        else:\n",
    "            results[\"identity_threshold\"].append(identity_threshold1)\n",
    "\n",
    "        if \"macro_f1\" not in results:\n",
    "            results[\"macro_f1\"] = [mf1]\n",
    "        else:\n",
    "            results[\"macro_f1\"].append(mf1)\n",
    "\n",
    "        if \"samples_num\" not in results:\n",
    "            results[\"samples_num\"] = [samples_num]\n",
    "        else:\n",
    "            results[\"samples_num\"].append(samples_num)\n",
    "            \n",
    "pd.read_csv(\"less_studied_results.csv\").append(pd.DataFrame(results)).to_csv(\"less_studied_results.csv\", index=False)"
   ]
  },
  {
   "cell_type": "markdown",
   "id": "b5c9a13c5d9cbcf",
   "metadata": {
    "collapsed": false
   },
   "source": [
    "## Save them to the csv file"
   ]
  },
  {
   "cell_type": "code",
   "execution_count": null,
   "id": "a970c02562c49f0b",
   "metadata": {
    "collapsed": false
   },
   "outputs": [],
   "source": [
    "less_studied_enzymes.append(pd.DataFrame(results)).to_csv(\"less_studied_results.csv\", index=False)"
   ]
  },
  {
   "cell_type": "markdown",
   "id": "e3d66fb0e0562538",
   "metadata": {
    "collapsed": false
   },
   "source": [
    "## Plot the results"
   ]
  },
  {
   "cell_type": "markdown",
   "id": "919152991934b896",
   "metadata": {
    "collapsed": false
   },
   "source": [
    "Note that the name of the models were changed in the dataset directly to make the plot more readable."
   ]
  },
  {
   "cell_type": "code",
   "execution_count": null,
   "id": "2b1992a1980dbc8b",
   "metadata": {
    "collapsed": false
   },
   "outputs": [],
   "source": [
    "color_map = {'DNN ESM2 35M': (0.00392156862745098,\n",
    "  0.45098039215686275,\n",
    "  0.6980392156862745),\n",
    " 'DNN ESM2 150M': (0.8705882352941177, 0.5607843137254902, 0.0196078431372549),\n",
    " 'DNN ESM2 8M': (0.00784313725490196, 0.6196078431372549, 0.45098039215686275),\n",
    " 'DNN ProtBERT': (0.8352941176470589, 0.3686274509803922, 0.0),\n",
    " 'DNN ESM2 3B': (0.8, 0.47058823529411764, 0.7372549019607844),\n",
    " 'DNN ESM2 650M': (0.792156862745098, 0.5686274509803921, 0.3803921568627451),\n",
    " 'DNN ESM1b': (0.984313725490196, 0.6862745098039216, 0.8941176470588236),\n",
    " 'DeepEC CNN3': (0.5803921568627451, 0.5803921568627451, 0.5803921568627451),\n",
    " 'DSPACE EC': (0.9254901960784314, 0.8823529411764706, 0.2),\n",
    " 'Models + BLASTp ensemble': (0.00392156862745098,\n",
    "  0.45098039215686275,\n",
    "  0.6980392156862745),\n",
    " 'Models ensemble': (0.8705882352941177, 0.5607843137254902, 0.0196078431372549),\n",
    "    'BLASTp': (0.00784313725490196, 0.6196078431372549, 0.45098039215686275),}"
   ]
  },
  {
   "cell_type": "code",
   "execution_count": null,
   "id": "a2aa56a4957367e8",
   "metadata": {
    "collapsed": false
   },
   "outputs": [],
   "source": [
    "import pandas as pd\n",
    "import numpy as np\n",
    "\n",
    "less_studied_enzymes = pd.read_csv(\"less_studied_results.csv\")\n",
    "\n",
    "# generate line plot for f1 score\n",
    "import seaborn as sns\n",
    "import matplotlib.pyplot as plt\n",
    "import matplotlib\n",
    "\n",
    "matplotlib.rcParams['savefig.transparent'] = True\n",
    "\n",
    "# Set Seaborn style\n",
    "sns.set(style=\"whitegrid\")\n",
    "sns.set(rc={'figure.figsize':(11.7,8.27)})\n",
    "\n",
    "# Plotting with Seaborn\n",
    "plt.figure(figsize=(11.7, 8.27))\n",
    "sns.lineplot(x='identity_threshold', y='macro_f1', hue='method', marker='o',  markers=True, markersize=5, data=less_studied_enzymes, palette=color_map)\n",
    "\n",
    "# plt.title('mF1 per Identity Intervals')\n",
    "plt.xlabel('Identity Intervals from BLASTp alignment', labelpad=20, fontsize=23)\n",
    "plt.ylabel('mF1', labelpad=20, fontsize=23)\n",
    "plt.legend(title='Method')\n",
    "plt.ylim(0, 1, 0.1)\n",
    "thresholds = [0, 15, 25, 35, 45, 55, 65, 75, 85, 90, 100]\n",
    "labels = []\n",
    "for i in range(1, len(thresholds)):\n",
    "    labels.append(f\"]{thresholds[i-1]}, {thresholds[i]}]\")\n",
    "\n",
    "# Add grid lines\n",
    "plt.grid(True, linestyle='--', alpha=0.7)\n",
    "\n",
    "# Adjust tick parameters\n",
    "plt.tick_params(axis='both', which='major', labelsize=20)\n",
    "plt.xticks([15, 25, 35, 45, 55, 65, 75, 85, 90, 100], labels=labels, rotation=90)\n",
    "plt.rcParams['figure.figsize'] = [15, 12]\n",
    "plt.rcParams['figure.dpi'] = 200\n",
    "plt.title(\"mF1 per Identity Intervals from BLASTp alignment\", pad=40, fontsize=23)\n",
    "# plt.show()\n",
    "plt.savefig(\"mF1_per_identity_intervals.png\", bbox_inches='tight', dpi=400)"
   ]
  }
 ],
 "metadata": {
  "kernelspec": {
   "display_name": "Python 3",
   "language": "python",
   "name": "python3"
  },
  "language_info": {
   "codemirror_mode": {
    "name": "ipython",
    "version": 3
   },
   "file_extension": ".py",
   "mimetype": "text/x-python",
   "name": "python",
   "nbconvert_exporter": "python",
   "pygments_lexer": "ipython3",
   "version": "3.9.18"
  }
 },
 "nbformat": 4,
 "nbformat_minor": 5
}
