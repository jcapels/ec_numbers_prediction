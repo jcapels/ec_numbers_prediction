{
 "cells": [
  {
   "cell_type": "code",
   "execution_count": null,
   "metadata": {},
   "outputs": [],
   "source": []
  },
  {
   "cell_type": "code",
   "execution_count": 11,
   "metadata": {},
   "outputs": [
    {
     "name": "stderr",
     "output_type": "stream",
     "text": [
      "/tmp/ipykernel_2665994/3818097993.py:3: DtypeWarning: Columns (4,5) have mixed types. Specify dtype option on import or set low_memory=False.\n",
      "  test = pd.read_csv(\"../required_data_ec_number_paper/data/test.csv\")\n"
     ]
    }
   ],
   "source": [
    "import pandas as pd\n",
    "\n",
    "test = pd.read_csv(\"../required_data_ec_number_paper/data/test.csv\")\n",
    "accessions = test[\"accession\"]\n",
    "terms = test.iloc[:, 8:].columns"
   ]
  },
  {
   "cell_type": "code",
   "execution_count": 4,
   "metadata": {},
   "outputs": [],
   "source": [
    "terms = list(terms)"
   ]
  },
  {
   "cell_type": "code",
   "execution_count": 4,
   "metadata": {},
   "outputs": [],
   "source": [
    "test = test.iloc[:, :8]"
   ]
  },
  {
   "cell_type": "code",
   "execution_count": 5,
   "metadata": {},
   "outputs": [
    {
     "name": "stderr",
     "output_type": "stream",
     "text": [
      "  0%|          | 0/75566 [00:00<?, ?it/s]"
     ]
    },
    {
     "name": "stderr",
     "output_type": "stream",
     "text": [
      "100%|██████████| 75566/75566 [00:08<00:00, 8724.95it/s]\n"
     ]
    }
   ],
   "source": [
    "# Create a function to format the EC columns\n",
    "from tqdm import tqdm\n",
    "\n",
    "\n",
    "def format_ec(df):\n",
    "    accessions = []\n",
    "    ecs_results = [] \n",
    "    for idx, row in tqdm(df.iterrows(), total=df.shape[0]):\n",
    "        for i in range(1, 5):  # Loop through EC1 to EC4\n",
    "            ecs = str(row[f'EC{i}']).split(\";\")\n",
    "            for ec in ecs:\n",
    "                accessions.append(f\"{row['accession']}\")\n",
    "                ecs_results.append(f\"EC:{ec}\")\n",
    "    return pd.DataFrame({\n",
    "        \"accessions\": accessions,\n",
    "        \"EC\": ecs_results\n",
    "\n",
    "    })\n",
    "\n",
    "# Apply the function to your dataframe\n",
    "formatted_rows = format_ec(test)\n",
    "formatted_rows.to_csv(\"gt.csv\", index=False)"
   ]
  },
  {
   "cell_type": "code",
   "execution_count": 9,
   "metadata": {},
   "outputs": [
    {
     "name": "stdout",
     "output_type": "stream",
     "text": [
      "OBO file generated successfully.\n"
     ]
    }
   ],
   "source": [
    "def generate_obo(terms):\n",
    "    obo_entries = []\n",
    "    for i, term in enumerate(terms):\n",
    "        # Create a unique id for each term (use IDPO with index)\n",
    "        term_id = f\"EC:{term}\"  # IDPO: start from 1000\n",
    "        name = f\"Term {term}\"  # Placeholder name for each term\n",
    "\n",
    "        # Definition for each term (placeholder definition)\n",
    "        definition = f'{term}'\n",
    "\n",
    "        # Determine if it has a parent (is_a relationship)\n",
    "        levels = term.split('.')\n",
    "        if len(levels) == 1:\n",
    "            parent = None  # Top-level term, no parent\n",
    "        else:\n",
    "            parent = \".\".join(levels[:-1])  # Parent is the immediate higher level\n",
    "\n",
    "        # OBO term format\n",
    "        obo_entry = \"[Term]\\n\"\n",
    "        obo_entry += f\"id: {term_id}\\n\"\n",
    "        obo_entry += f\"name: {name}\\n\"\n",
    "        obo_entry += \"namespace: ec_numbers\\n\"\n",
    "        obo_entry += f\"def: {definition}\\n\"\n",
    "\n",
    "        # If a parent exists, add the 'is_a' field with the parent's ID\n",
    "        if parent in terms:\n",
    "            parent_index = terms.index(parent) # Get parent index\n",
    "            obo_entry += f\"is_a: EC:{parent}\\n\"\n",
    "\n",
    "        obo_entries.append(obo_entry)\n",
    "\n",
    "    return \"\\n\".join(obo_entries)\n",
    "\n",
    "\n",
    "# Generate the OBO file content\n",
    "obo_content = generate_obo(terms)\n",
    "\n",
    "# Write the content to a .obo file\n",
    "with open(\"ontology_output.obo\", \"w\") as obo_file:\n",
    "    obo_file.write(obo_content)\n",
    "\n",
    "print(\"OBO file generated successfully.\")"
   ]
  },
  {
   "cell_type": "code",
   "execution_count": 1,
   "metadata": {},
   "outputs": [],
   "source": [
    "from plants_sm.io.pickle import read_pickle\n",
    "\n",
    "test_esm1b = read_pickle(\"../pr_auc_validation/esm1b_predictions/test_esm1b_predictions.pkl\")"
   ]
  },
  {
   "cell_type": "code",
   "execution_count": 9,
   "metadata": {},
   "outputs": [],
   "source": [
    "import numpy as np\n",
    "\n",
    "indexes = [np.where(row >= 0.02)[0] for row in test_esm1b]\n",
    "terms = np.array(terms)"
   ]
  },
  {
   "cell_type": "code",
   "execution_count": 12,
   "metadata": {},
   "outputs": [
    {
     "name": "stderr",
     "output_type": "stream",
     "text": [
      "  0%|          | 0/75566 [00:00<?, ?it/s]"
     ]
    },
    {
     "name": "stderr",
     "output_type": "stream",
     "text": [
      "100%|██████████| 75566/75566 [00:01<00:00, 56925.29it/s]\n"
     ]
    }
   ],
   "source": [
    "from tqdm import tqdm \n",
    "results = pd.DataFrame()\n",
    "\n",
    "accessions_ = []\n",
    "ec_list = []\n",
    "prob = []\n",
    "for i, index_ in tqdm(enumerate(indexes), total=75566):\n",
    "    ecs = terms[index_]\n",
    "    for j, ec in enumerate(ecs):\n",
    "        accessions_.append(accessions[i])\n",
    "        ec_list.append(f\"EC:{ec}\")\n",
    "        prob.append(test_esm1b[i, index_[j]])\n",
    "\n",
    "results = pd.DataFrame({\n",
    "    \"accession\": accessions_,\n",
    "    \"EC\": ec_list,\n",
    "    \"Prob\": prob\n",
    "})\n",
    "results.to_csv(\"esm1b_results.tsv\", index=False, sep=\"\\t\", header=False)"
   ]
  },
  {
   "cell_type": "code",
   "execution_count": 2,
   "metadata": {},
   "outputs": [],
   "source": [
    "import pandas as pd\n",
    "\n",
    "pd.read_csv(\"gt.csv\").to_csv(\"gt.tsv\", sep=\"\\t\", header=False, index=False)"
   ]
  }
 ],
 "metadata": {
  "kernelspec": {
   "display_name": "ec_numbers_prediction",
   "language": "python",
   "name": "python3"
  },
  "language_info": {
   "codemirror_mode": {
    "name": "ipython",
    "version": 3
   },
   "file_extension": ".py",
   "mimetype": "text/x-python",
   "name": "python",
   "nbconvert_exporter": "python",
   "pygments_lexer": "ipython3",
   "version": "3.10.16"
  }
 },
 "nbformat": 4,
 "nbformat_minor": 2
}
