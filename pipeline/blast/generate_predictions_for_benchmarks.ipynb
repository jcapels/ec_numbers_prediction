{
 "cells": [
  {
   "cell_type": "code",
   "execution_count": 14,
   "id": "initial_id",
   "metadata": {
    "collapsed": true,
    "ExecuteTime": {
     "end_time": "2024-01-02T17:57:05.628495639Z",
     "start_time": "2024-01-02T17:55:36.814703766Z"
    }
   },
   "outputs": [
    {
     "name": "stderr",
     "output_type": "stream",
     "text": [
      "/tmp/ipykernel_236439/3087899993.py:3: DtypeWarning: Columns (4,5) have mixed types. Specify dtype option on import or set low_memory=False.\n",
      "  train = pd.read_csv('../train.csv')\n",
      "/tmp/ipykernel_236439/3087899993.py:4: DtypeWarning: Columns (4,5) have mixed types. Specify dtype option on import or set low_memory=False.\n",
      "  validation = pd.read_csv('../validation.csv')\n",
      "/tmp/ipykernel_236439/3087899993.py:5: DtypeWarning: Columns (4,5) have mixed types. Specify dtype option on import or set low_memory=False.\n",
      "  test = pd.read_csv('../test.csv')\n"
     ]
    }
   ],
   "source": [
    "import pandas as pd\n",
    "\n",
    "train = pd.read_csv('../train.csv')\n",
    "validation = pd.read_csv('../validation.csv')\n",
    "test = pd.read_csv('../test.csv')\n",
    "train.iloc[:, :8].to_csv('train_reduced.csv', index=False)\n",
    "validation.iloc[:, :8].to_csv('validation_reduced.csv', index=False)\n",
    "test.iloc[:, :8].to_csv('test_reduced.csv', index=False)"
   ]
  },
  {
   "cell_type": "code",
   "outputs": [
    {
     "name": "stderr",
     "output_type": "stream",
     "text": [
      "/tmp/ipykernel_236770/4211830955.py:3: DtypeWarning: Columns (4,5) have mixed types. Specify dtype option on import or set low_memory=False.\n",
      "  train = pd.read_csv('train_reduced.csv')\n",
      "/tmp/ipykernel_236770/4211830955.py:4: DtypeWarning: Columns (4,5) have mixed types. Specify dtype option on import or set low_memory=False.\n",
      "  validation = pd.read_csv('validation_reduced.csv')\n",
      "/tmp/ipykernel_236770/4211830955.py:5: DtypeWarning: Columns (4,5) have mixed types. Specify dtype option on import or set low_memory=False.\n",
      "  test = pd.read_csv('test_reduced.csv')\n"
     ]
    }
   ],
   "source": [
    "import pandas as pd\n",
    "\n",
    "train = pd.read_csv('train_reduced.csv')\n",
    "validation = pd.read_csv('validation_reduced.csv')\n",
    "test = pd.read_csv('test_reduced.csv')\n",
    "\n",
    "database = pd.concat([train, validation, test])\n",
    "database.to_csv('database.csv', index=False)"
   ],
   "metadata": {
    "collapsed": false,
    "ExecuteTime": {
     "end_time": "2024-01-02T17:59:36.380336831Z",
     "start_time": "2024-01-02T17:59:31.212776033Z"
    }
   },
   "id": "17df7f0f99b1d08",
   "execution_count": 7
  },
  {
   "cell_type": "code",
   "outputs": [
    {
     "name": "stderr",
     "output_type": "stream",
     "text": [
      "/home/bisbii/Desktop/PHD/PlantsSM/src/plants_sm/utilities/utils.py:8: DtypeWarning: Columns (4,5) have mixed types. Specify dtype option on import or set low_memory=False.\n",
      "  df = pd.read_csv(csv_file, sep=sep)\n"
     ]
    }
   ],
   "source": [
    "from plants_sm.utilities.utils import convert_csv_to_fasta\n",
    "\n",
    "convert_csv_to_fasta('database.csv', 'sequence', 'accession', 'database.fasta')"
   ],
   "metadata": {
    "collapsed": false,
    "ExecuteTime": {
     "end_time": "2024-01-02T18:01:26.472275601Z",
     "start_time": "2024-01-02T18:01:06.851060503Z"
    }
   },
   "id": "aa1a832f40f5319f",
   "execution_count": 12
  },
  {
   "cell_type": "code",
   "outputs": [
    {
     "name": "stdout",
     "output_type": "stream",
     "text": [
      "\n",
      "\n",
      "Building a new DB, current time: 01/02/2024 18:01:26\n",
      "New DB name:   /home/bisbii/Desktop/PHD/PlantsSM/examples/final_data/blast_train_validation_test/all_data_database\n",
      "New DB title:  database.fasta\n",
      "Sequence type: Protein\n",
      "Deleted existing Protein BLAST database named /home/bisbii/Desktop/PHD/PlantsSM/examples/final_data/blast_train_validation_test/all_data_database\n",
      "Keep MBits: T\n",
      "Maximum file size: 1000000000B\n",
      "Adding sequences from FASTA; added 380811 sequences in 6.08584 seconds.\n"
     ]
    }
   ],
   "source": [
    "from plants_sm.alignments.alignment import BLAST\n",
    "\n",
    "blast = BLAST(\"all_data_database\")\n",
    "blast.create_database('database.fasta')"
   ],
   "metadata": {
    "collapsed": false,
    "ExecuteTime": {
     "end_time": "2024-01-02T18:01:32.669640868Z",
     "start_time": "2024-01-02T18:01:26.472129899Z"
    }
   },
   "id": "d901ec64a3e08c41",
   "execution_count": 13
  },
  {
   "cell_type": "code",
   "outputs": [],
   "source": [
    "from plants_sm.utilities.utils import convert_csv_to_fasta\n",
    "from plants_sm.alignments.alignment import BLAST\n",
    "\n",
    "convert_csv_to_fasta(\"halogenase.csv\", 'Sequence', 'Entry', 'halogenase.fasta', sep=\"\\t\")\n",
    "blast = BLAST(\"all_data_database\")"
   ],
   "metadata": {
    "collapsed": false,
    "ExecuteTime": {
     "end_time": "2024-01-02T18:01:32.746487275Z",
     "start_time": "2024-01-02T18:01:32.663087829Z"
    }
   },
   "id": "303bb9b0b7405e88",
   "execution_count": 14
  },
  {
   "cell_type": "code",
   "outputs": [
    {
     "name": "stderr",
     "output_type": "stream",
     "text": [
      "Warning: [blastp] Examining 5 or more matches is recommended\n"
     ]
    }
   ],
   "source": [
    "blast.run(\"halogenase.fasta\", \"halogenase_alignment.tsv\", evalue=1e-5, num_hits=1)"
   ],
   "metadata": {
    "collapsed": false,
    "ExecuteTime": {
     "end_time": "2024-01-02T18:02:28.385772614Z",
     "start_time": "2024-01-02T18:01:32.708094111Z"
    }
   },
   "id": "dabcf2b098288521",
   "execution_count": 15
  },
  {
   "cell_type": "code",
   "outputs": [],
   "source": [
    "halogenase_test_dataset = pd.read_csv(\"halogenase.csv\", sep=\"\\t\")"
   ],
   "metadata": {
    "collapsed": false,
    "ExecuteTime": {
     "end_time": "2024-01-02T18:11:34.600239121Z",
     "start_time": "2024-01-02T18:11:34.554470684Z"
    }
   },
   "id": "ed1f482574912309",
   "execution_count": 34
  },
  {
   "cell_type": "code",
   "outputs": [],
   "source": [
    "import pandas as pd\n",
    "halogenase_blast_results = pd.read_csv('halogenase_alignment.tsv', sep='\\t', names= [\"qseqid\", \"sseqid\", \"pident\", \"length\", \"mismatch\",\n",
    "                              \"gapopen\", \"qstart\", \"qend\", \"sstart\", \"evalue\", \"bitscore\"])"
   ],
   "metadata": {
    "collapsed": false,
    "ExecuteTime": {
     "end_time": "2024-01-02T18:03:25.736161125Z",
     "start_time": "2024-01-02T18:03:25.689874291Z"
    }
   },
   "id": "e21481933d63242b",
   "execution_count": 16
  },
  {
   "cell_type": "code",
   "outputs": [],
   "source": [
    "columns = list(halogenase_blast_results.columns)\n",
    "i = columns.index('sseqid')\n",
    "columns[i] = \"accession\"\n",
    "halogenase_blast_results.columns = columns"
   ],
   "metadata": {
    "collapsed": false,
    "ExecuteTime": {
     "end_time": "2024-01-02T18:08:05.635639927Z",
     "start_time": "2024-01-02T18:08:05.588400853Z"
    }
   },
   "id": "4d5467fd10c3383",
   "execution_count": 26
  },
  {
   "cell_type": "code",
   "outputs": [
    {
     "name": "stderr",
     "output_type": "stream",
     "text": [
      "/tmp/ipykernel_236770/726833314.py:1: DtypeWarning: Columns (4,5) have mixed types. Specify dtype option on import or set low_memory=False.\n",
      "  database = pd.read_csv('database.csv')\n"
     ]
    }
   ],
   "source": [
    "database = pd.read_csv('database.csv')"
   ],
   "metadata": {
    "collapsed": false,
    "ExecuteTime": {
     "end_time": "2024-01-02T18:03:32.551186308Z",
     "start_time": "2024-01-02T18:03:30.978735688Z"
    }
   },
   "id": "db30226437dd3697",
   "execution_count": 18
  },
  {
   "cell_type": "code",
   "outputs": [],
   "source": [
    "database_reduced = database[database[\"accession\"].isin(halogenase_blast_results[\"accession\"])]\n",
    "halogenase_blast_results = pd.merge(halogenase_blast_results,database_reduced,  on='accession', how='inner')"
   ],
   "metadata": {
    "collapsed": false,
    "ExecuteTime": {
     "end_time": "2024-01-02T18:10:04.416183600Z",
     "start_time": "2024-01-02T18:10:04.369368161Z"
    }
   },
   "id": "70a5efcf23a97476",
   "execution_count": 29
  },
  {
   "cell_type": "code",
   "outputs": [
    {
     "name": "stderr",
     "output_type": "stream",
     "text": [
      "/tmp/ipykernel_236770/1130070972.py:4: SettingWithCopyWarning: \n",
      "A value is trying to be set on a copy of a slice from a DataFrame\n",
      "\n",
      "See the caveats in the documentation: https://pandas.pydata.org/pandas-docs/stable/user_guide/indexing.html#returning-a-view-versus-a-copy\n",
      "  not_in_predictions.drop(\"EC\", inplace=True, axis=1)\n"
     ]
    }
   ],
   "source": [
    "# get duplicated accessions\n",
    "not_in_predictions = halogenase_test_dataset[~halogenase_test_dataset.loc[:, \"Entry\"].isin(halogenase_blast_results.loc[:, \"qseqid\"])]\n",
    "not_in_predictions.columns = [\"qseqid\", \"EC\", \"sequence\"]\n",
    "not_in_predictions.drop(\"EC\", inplace=True, axis=1)"
   ],
   "metadata": {
    "collapsed": false,
    "ExecuteTime": {
     "end_time": "2024-01-02T18:17:06.087986529Z",
     "start_time": "2024-01-02T18:17:06.085512623Z"
    }
   },
   "id": "7ab7b262857637ee",
   "execution_count": 39
  },
  {
   "cell_type": "code",
   "outputs": [
    {
     "data": {
      "text/plain": "        qseqid                                           sequence\n0       A7KH27  MTTSGHTSFSDYSPRRRSMLLGGLGGAAALSAAGFTGMASASPRGS...\n2   A0A559V0A1  MTTSGSSSVPGFSPRRRSLLLGGGSAAALTALGHAGTAAAEPGPAA...\n3   A0A559V0T8  MTSGNSSSAGFSPARRSLLLGGASTAALATLGTGTAAAAGQGTGPA...\n21  A0A1L1YPD7  MSNNAVSTKSALNFLDINVTEVNNYPTAIQDIIIDRRFDGMIIRGV...",
      "text/html": "<div>\n<style scoped>\n    .dataframe tbody tr th:only-of-type {\n        vertical-align: middle;\n    }\n\n    .dataframe tbody tr th {\n        vertical-align: top;\n    }\n\n    .dataframe thead th {\n        text-align: right;\n    }\n</style>\n<table border=\"1\" class=\"dataframe\">\n  <thead>\n    <tr style=\"text-align: right;\">\n      <th></th>\n      <th>qseqid</th>\n      <th>sequence</th>\n    </tr>\n  </thead>\n  <tbody>\n    <tr>\n      <th>0</th>\n      <td>A7KH27</td>\n      <td>MTTSGHTSFSDYSPRRRSMLLGGLGGAAALSAAGFTGMASASPRGS...</td>\n    </tr>\n    <tr>\n      <th>2</th>\n      <td>A0A559V0A1</td>\n      <td>MTTSGSSSVPGFSPRRRSLLLGGGSAAALTALGHAGTAAAEPGPAA...</td>\n    </tr>\n    <tr>\n      <th>3</th>\n      <td>A0A559V0T8</td>\n      <td>MTSGNSSSAGFSPARRSLLLGGASTAALATLGTGTAAAAGQGTGPA...</td>\n    </tr>\n    <tr>\n      <th>21</th>\n      <td>A0A1L1YPD7</td>\n      <td>MSNNAVSTKSALNFLDINVTEVNNYPTAIQDIIIDRRFDGMIIRGV...</td>\n    </tr>\n  </tbody>\n</table>\n</div>"
     },
     "execution_count": 40,
     "metadata": {},
     "output_type": "execute_result"
    }
   ],
   "source": [
    "not_in_predictions"
   ],
   "metadata": {
    "collapsed": false,
    "ExecuteTime": {
     "end_time": "2024-01-02T18:17:10.347055002Z",
     "start_time": "2024-01-02T18:17:10.331302782Z"
    }
   },
   "id": "935967354b87b12b",
   "execution_count": 40
  },
  {
   "cell_type": "code",
   "outputs": [],
   "source": [
    "halogenase_blast_results = pd.concat((halogenase_blast_results,not_in_predictions))\n",
    "halogenase_blast_results.to_csv(\"halogenase_blast_results.csv\", index=False)"
   ],
   "metadata": {
    "collapsed": false,
    "ExecuteTime": {
     "end_time": "2024-01-02T18:18:15.436697390Z",
     "start_time": "2024-01-02T18:18:15.420228288Z"
    }
   },
   "id": "33cdb20fcba2fd1",
   "execution_count": 43
  },
  {
   "cell_type": "markdown",
   "source": [
    "# Price et al"
   ],
   "metadata": {
    "collapsed": false
   },
   "id": "40d43d47445b8efd"
  },
  {
   "cell_type": "code",
   "outputs": [],
   "source": [
    "from plants_sm.utilities.utils import convert_csv_to_fasta\n",
    "\n",
    "convert_csv_to_fasta('price.csv', 'Sequence', 'Entry', 'price.fasta', sep=\"\\t\")\n",
    "blast = BLAST(\"all_data_database\")"
   ],
   "metadata": {
    "collapsed": false,
    "ExecuteTime": {
     "end_time": "2024-01-02T18:22:16.736584798Z",
     "start_time": "2024-01-02T18:22:16.724967723Z"
    }
   },
   "id": "611c7272bad4ddc8",
   "execution_count": 46
  },
  {
   "cell_type": "code",
   "outputs": [
    {
     "name": "stderr",
     "output_type": "stream",
     "text": [
      "Warning: [blastp] Examining 5 or more matches is recommended\n"
     ]
    }
   ],
   "source": [
    "blast.run(\"price.fasta\", \"price_alignment.tsv\", evalue=1e-5, num_hits=1)"
   ],
   "metadata": {
    "collapsed": false,
    "ExecuteTime": {
     "end_time": "2024-01-02T18:27:00.244440149Z",
     "start_time": "2024-01-02T18:22:48.557229814Z"
    }
   },
   "id": "dc86b2e5a5e5e5cc",
   "execution_count": 47
  },
  {
   "cell_type": "code",
   "outputs": [],
   "source": [
    "import pandas as pd\n",
    "price_blast_results = pd.read_csv('price_alignment.tsv', sep='\\t', names= [\"qseqid\", \"sseqid\", \"pident\", \"length\", \"mismatch\",\n",
    "                              \"gapopen\", \"qstart\", \"qend\", \"sstart\", \"evalue\", \"bitscore\"])"
   ],
   "metadata": {
    "collapsed": false,
    "ExecuteTime": {
     "end_time": "2024-01-02T19:01:08.208170013Z",
     "start_time": "2024-01-02T19:01:08.164779217Z"
    }
   },
   "id": "bfa60745235e7a9b",
   "execution_count": 90
  },
  {
   "cell_type": "code",
   "outputs": [],
   "source": [
    "columns = list(price_blast_results.columns)\n",
    "i = columns.index('sseqid')\n",
    "columns[i] = \"accession\"\n",
    "price_blast_results.columns = columns"
   ],
   "metadata": {
    "collapsed": false,
    "ExecuteTime": {
     "end_time": "2024-01-02T19:01:09.535053172Z",
     "start_time": "2024-01-02T19:01:09.531474515Z"
    }
   },
   "id": "6f161593e81268f1",
   "execution_count": 91
  },
  {
   "cell_type": "code",
   "outputs": [],
   "source": [
    "price_dataset = pd.read_csv(\"price.csv\", sep=\"\\t\")"
   ],
   "metadata": {
    "collapsed": false,
    "ExecuteTime": {
     "end_time": "2024-01-02T19:01:10.821512954Z",
     "start_time": "2024-01-02T19:01:10.815013131Z"
    }
   },
   "id": "2e910d456499834b",
   "execution_count": 92
  },
  {
   "cell_type": "code",
   "outputs": [
    {
     "data": {
      "text/plain": "           qseqid                                           sequence\n35   WP_014880051  MSQLQAPGAVVMIRPHHFCSNPETRDDNAFQTLADDTADVTSAQAQ...\n63   WP_054597481  MQTTNTVLMIRPTRFSFNQDTAANNRFQRPAAAAEDVQLKALQEFD...\n113     NP_436855  MPQITRRMTLSINAIVWGENIHEQTNAVVREIYPDGMHNTIAAALN...\n117     NP_437726  MLISQVRKEDGSVIVAVRAPGETARAVRGAESVYALAMEAANSRRS...\n140  WP_010209327  MQTTNTVLMIRPARFAFNPDTAINNRFQRQPLDPLGAQQKALEEFD...",
      "text/html": "<div>\n<style scoped>\n    .dataframe tbody tr th:only-of-type {\n        vertical-align: middle;\n    }\n\n    .dataframe tbody tr th {\n        vertical-align: top;\n    }\n\n    .dataframe thead th {\n        text-align: right;\n    }\n</style>\n<table border=\"1\" class=\"dataframe\">\n  <thead>\n    <tr style=\"text-align: right;\">\n      <th></th>\n      <th>qseqid</th>\n      <th>sequence</th>\n    </tr>\n  </thead>\n  <tbody>\n    <tr>\n      <th>35</th>\n      <td>WP_014880051</td>\n      <td>MSQLQAPGAVVMIRPHHFCSNPETRDDNAFQTLADDTADVTSAQAQ...</td>\n    </tr>\n    <tr>\n      <th>63</th>\n      <td>WP_054597481</td>\n      <td>MQTTNTVLMIRPTRFSFNQDTAANNRFQRPAAAAEDVQLKALQEFD...</td>\n    </tr>\n    <tr>\n      <th>113</th>\n      <td>NP_436855</td>\n      <td>MPQITRRMTLSINAIVWGENIHEQTNAVVREIYPDGMHNTIAAALN...</td>\n    </tr>\n    <tr>\n      <th>117</th>\n      <td>NP_437726</td>\n      <td>MLISQVRKEDGSVIVAVRAPGETARAVRGAESVYALAMEAANSRRS...</td>\n    </tr>\n    <tr>\n      <th>140</th>\n      <td>WP_010209327</td>\n      <td>MQTTNTVLMIRPARFAFNPDTAINNRFQRQPLDPLGAQQKALEEFD...</td>\n    </tr>\n  </tbody>\n</table>\n</div>"
     },
     "execution_count": 93,
     "metadata": {},
     "output_type": "execute_result"
    }
   ],
   "source": [
    "not_in_predictions"
   ],
   "metadata": {
    "collapsed": false,
    "ExecuteTime": {
     "end_time": "2024-01-02T19:01:11.698758436Z",
     "start_time": "2024-01-02T19:01:11.693462865Z"
    }
   },
   "id": "adf3e39c696e2656",
   "execution_count": 93
  },
  {
   "cell_type": "code",
   "outputs": [
    {
     "name": "stderr",
     "output_type": "stream",
     "text": [
      "/tmp/ipykernel_236770/1146571287.py:1: DtypeWarning: Columns (4,5) have mixed types. Specify dtype option on import or set low_memory=False.\n",
      "  database = pd.read_csv('database.csv')\n",
      "/tmp/ipykernel_236770/1146571287.py:7: SettingWithCopyWarning: \n",
      "A value is trying to be set on a copy of a slice from a DataFrame\n",
      "\n",
      "See the caveats in the documentation: https://pandas.pydata.org/pandas-docs/stable/user_guide/indexing.html#returning-a-view-versus-a-copy\n",
      "  not_in_predictions.drop(\"EC\", inplace=True, axis=1)\n"
     ]
    }
   ],
   "source": [
    "database = pd.read_csv('database.csv')\n",
    "database_reduced = database[database[\"accession\"].isin(price_blast_results[\"accession\"])]\n",
    "price_blast_results = pd.merge(price_blast_results,database_reduced,  on='accession', how='inner')\n",
    "# get duplicated accessions\n",
    "not_in_predictions = price_dataset[~price_dataset.loc[:, \"Entry\"].isin(price_blast_results.loc[:, \"qseqid\"])]\n",
    "not_in_predictions.columns = [\"qseqid\", \"EC\", \"sequence\"]\n",
    "not_in_predictions.drop(\"EC\", inplace=True, axis=1)\n",
    "price_blast_results = pd.concat((not_in_predictions, price_blast_results), ignore_index=True)\n",
    "price_blast_results.to_csv(\"price_blast_results.csv\", index=False)"
   ],
   "metadata": {
    "collapsed": false,
    "ExecuteTime": {
     "end_time": "2024-01-02T19:01:13.963171704Z",
     "start_time": "2024-01-02T19:01:12.478763892Z"
    }
   },
   "id": "7bc822c8570f806b",
   "execution_count": 94
  }
 ],
 "metadata": {
  "kernelspec": {
   "display_name": "Python 3",
   "language": "python",
   "name": "python3"
  },
  "language_info": {
   "codemirror_mode": {
    "name": "ipython",
    "version": 2
   },
   "file_extension": ".py",
   "mimetype": "text/x-python",
   "name": "python",
   "nbconvert_exporter": "python",
   "pygments_lexer": "ipython2",
   "version": "2.7.6"
  }
 },
 "nbformat": 4,
 "nbformat_minor": 5
}
