{
 "cells": [
  {
   "cell_type": "markdown",
   "source": [
    "# Alignments' performance analysis"
   ],
   "metadata": {
    "collapsed": false
   },
   "id": "544d2f0303e3e49d"
  },
  {
   "cell_type": "markdown",
   "source": [
    "## Conversions to fasta"
   ],
   "metadata": {
    "collapsed": false
   },
   "id": "ec2786dfc54ca0a5"
  },
  {
   "cell_type": "code",
   "execution_count": 16,
   "outputs": [
    {
     "name": "stderr",
     "output_type": "stream",
     "text": [
      "/tmp/ipykernel_102159/3085359972.py:3: DtypeWarning: Columns (4,5) have mixed types. Specify dtype option on import or set low_memory=False.\n",
      "  train = pd.read_csv('../train.csv')\n",
      "/tmp/ipykernel_102159/3085359972.py:4: DtypeWarning: Columns (4,5) have mixed types. Specify dtype option on import or set low_memory=False.\n",
      "  validation = pd.read_csv('../validation.csv')\n"
     ]
    }
   ],
   "source": [
    "import pandas as pd\n",
    "\n",
    "train = pd.read_csv('../train.csv')\n",
    "validation = pd.read_csv('../validation.csv')"
   ],
   "metadata": {
    "collapsed": false,
    "ExecuteTime": {
     "end_time": "2023-09-11T15:39:30.691941207Z",
     "start_time": "2023-09-11T15:38:15.376792205Z"
    }
   },
   "id": "19c1dc7f08e7a4d1"
  },
  {
   "cell_type": "code",
   "execution_count": 17,
   "outputs": [],
   "source": [
    "database = pd.concat([train, validation])\n",
    "database.to_csv('database.csv', index=False)"
   ],
   "metadata": {
    "collapsed": false,
    "ExecuteTime": {
     "end_time": "2023-09-11T15:44:37.201870010Z",
     "start_time": "2023-09-11T15:39:30.650124826Z"
    }
   },
   "id": "3046574e38ea4e5b"
  },
  {
   "cell_type": "code",
   "execution_count": 5,
   "outputs": [
    {
     "name": "stderr",
     "output_type": "stream",
     "text": [
      "/tmp/ipykernel_9110/898832075.py:3: DtypeWarning: Columns (4,5) have mixed types. Specify dtype option on import or set low_memory=False.\n",
      "  test = pd.read_csv('../test.csv')\n"
     ]
    }
   ],
   "source": [
    "train.iloc[:, :3].to_csv('train_reduced.csv', index=False)\n",
    "validation.iloc[:, :3].to_csv('validation_reduced.csv', index=False)\n",
    "test = pd.read_csv('../test.csv')\n",
    "test.iloc[:, :3].to_csv('test_reduced.csv', index=False)"
   ],
   "metadata": {
    "collapsed": false,
    "ExecuteTime": {
     "end_time": "2023-09-07T13:31:18.460816616Z",
     "start_time": "2023-09-07T13:30:48.149732686Z"
    }
   },
   "id": "e60c6160170364b6"
  },
  {
   "cell_type": "code",
   "execution_count": 1,
   "outputs": [],
   "source": [
    "import pandas as pd\n",
    "train = pd.read_csv('train_reduced.csv')\n",
    "validation = pd.read_csv('validation_reduced.csv')\n",
    "pd.concat([train, validation]).to_csv('train_validation_reduced.csv', index=False)"
   ],
   "metadata": {
    "collapsed": false,
    "ExecuteTime": {
     "end_time": "2023-09-07T13:31:27.904280784Z",
     "start_time": "2023-09-07T13:31:24.350011716Z"
    }
   },
   "id": "1ef17440500af2e"
  },
  {
   "cell_type": "code",
   "execution_count": 3,
   "outputs": [],
   "source": [
    "from plants_sm.utilities.utils import convert_csv_to_fasta\n",
    "\n",
    "convert_csv_to_fasta('train_validation_reduced.csv', 'sequence', 'accession', 'database.fasta')"
   ],
   "metadata": {
    "collapsed": false,
    "ExecuteTime": {
     "end_time": "2023-09-07T13:32:18.789853582Z",
     "start_time": "2023-09-07T13:32:04.405426960Z"
    }
   },
   "id": "26b4f60feec02eb4"
  },
  {
   "cell_type": "code",
   "execution_count": 4,
   "outputs": [],
   "source": [
    "convert_csv_to_fasta('../test_reduced.csv', 'sequence', 'accession', 'test.fasta')"
   ],
   "metadata": {
    "collapsed": false,
    "ExecuteTime": {
     "end_time": "2023-09-07T13:32:27.741627190Z",
     "start_time": "2023-09-07T13:32:24.099875155Z"
    }
   },
   "id": "4e45d581e1c13465"
  }
 ],
 "metadata": {
  "kernelspec": {
   "display_name": "Python 3",
   "language": "python",
   "name": "python3"
  },
  "language_info": {
   "codemirror_mode": {
    "name": "ipython",
    "version": 2
   },
   "file_extension": ".py",
   "mimetype": "text/x-python",
   "name": "python",
   "nbconvert_exporter": "python",
   "pygments_lexer": "ipython2",
   "version": "2.7.6"
  }
 },
 "nbformat": 4,
 "nbformat_minor": 5
}
